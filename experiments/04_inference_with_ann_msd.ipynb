{
 "cells": [
  {
   "cell_type": "markdown",
   "metadata": {},
   "source": [
    "# Tutorial on inference with approximate nearest neighbours search"
   ]
  },
  {
   "cell_type": "markdown",
   "metadata": {},
   "source": [
    "RePlay models such as Word2Vec and ALS could return user or item vectors which could be used to find close items and get item2item recommendation or ret relevant items for user (ALS). Basic way to do so is to calculate the distance (e.g. cosine, negative dot product) between all available vectors and select top-k, but this calculation is computationally expensive. Other way is to use approximate methods.\n",
    "\n",
    "There are many approximate nearest neighbours search methods and libraries (see [ANN benchmarks](http://ann-benchmarks.com/)).\n",
    "\n",
    "We will use one of them to build index and make prediction for selected users. "
   ]
  },
  {
   "cell_type": "code",
   "execution_count": 3,
   "metadata": {
    "ExecuteTime": {
     "end_time": "2020-02-10T16:01:45.639135Z",
     "start_time": "2020-02-10T16:01:45.612577Z"
    },
    "jupyter": {
     "outputs_hidden": false
    },
    "pycharm": {
     "is_executing": false
    }
   },
   "outputs": [],
   "source": [
    "%load_ext autoreload\n",
    "%autoreload 2"
   ]
  },
  {
   "cell_type": "code",
   "execution_count": 4,
   "metadata": {},
   "outputs": [],
   "source": [
    "%config Completer.use_jedi = False"
   ]
  },
  {
   "cell_type": "code",
   "execution_count": 5,
   "metadata": {
    "ExecuteTime": {
     "end_time": "2020-02-10T15:59:09.227179Z",
     "start_time": "2020-02-10T15:59:06.427348Z"
    },
    "jupyter": {
     "outputs_hidden": false
    },
    "pycharm": {
     "is_executing": false
    }
   },
   "outputs": [
    {
     "name": "stderr",
     "output_type": "stream",
     "text": [
      "WARNING: An illegal reflective access operation has occurred\n",
      "WARNING: Illegal reflective access by org.apache.spark.unsafe.Platform (file:/home/volodkevich/replay_tasks/current_base/env39/lib/python3.9/site-packages/pyspark/jars/spark-unsafe_2.12-3.1.2.jar) to constructor java.nio.DirectByteBuffer(long,int)\n",
      "WARNING: Please consider reporting this to the maintainers of org.apache.spark.unsafe.Platform\n",
      "WARNING: Use --illegal-access=warn to enable warnings of further illegal reflective access operations\n",
      "WARNING: All illegal access operations will be denied in a future release\n",
      "21/12/27 12:13:07 WARN NativeCodeLoader: Unable to load native-hadoop library for your platform... using builtin-java classes where applicable\n",
      "Using Spark's default log4j profile: org/apache/spark/log4j-defaults.properties\n",
      "Setting default log level to \"WARN\".\n",
      "To adjust logging level use sc.setLogLevel(newLevel). For SparkR, use setLogLevel(newLevel).\n",
      "21/12/27 12:13:09 WARN SparkConf: Note that spark.local.dir will be overridden by the value set by the cluster manager (via SPARK_LOCAL_DIRS in mesos/standalone/kubernetes and LOCAL_DIRS in YARN).\n",
      "21/12/27 12:13:13 WARN Utils: Service 'SparkUI' could not bind on port 4040. Attempting port 4041.\n",
      "21/12/27 12:13:13 WARN Utils: Service 'SparkUI' could not bind on port 4041. Attempting port 4042.\n",
      "/home/volodkevich/replay_tasks/current_base/env39/lib/python3.9/site-packages/torch/cuda/__init__.py:52: UserWarning: CUDA initialization: The NVIDIA driver on your system is too old (found version 6050). Please update your GPU driver by downloading and installing a new version from the URL: http://www.nvidia.com/Download/index.aspx Alternatively, go to: https://pytorch.org to install a PyTorch version that has been compiled with your version of the CUDA driver. (Triggered internally at  /pytorch/c10/cuda/CUDAFunctions.cpp:109.)\n",
      "  return torch._C._cuda_getDeviceCount() > 0\n"
     ]
    },
    {
     "data": {
      "text/html": [
       "\n",
       "            <div>\n",
       "                <p><b>SparkSession - hive</b></p>\n",
       "                \n",
       "        <div>\n",
       "            <p><b>SparkContext</b></p>\n",
       "\n",
       "            <p><a href=\"http://localhost:4042\">Spark UI</a></p>\n",
       "\n",
       "            <dl>\n",
       "              <dt>Version</dt>\n",
       "                <dd><code>v3.1.2</code></dd>\n",
       "              <dt>Master</dt>\n",
       "                <dd><code>local[*]</code></dd>\n",
       "              <dt>AppName</dt>\n",
       "                <dd><code>pyspark-shell</code></dd>\n",
       "            </dl>\n",
       "        </div>\n",
       "        \n",
       "            </div>\n",
       "        "
      ],
      "text/plain": [
       "<pyspark.sql.session.SparkSession at 0x7fd4dbadce20>"
      ]
     },
     "execution_count": 5,
     "metadata": {},
     "output_type": "execute_result"
    }
   ],
   "source": [
    "from replay.session_handler import State\n",
    "\n",
    "spark = State().session\n",
    "spark"
   ]
  },
  {
   "cell_type": "code",
   "execution_count": 6,
   "metadata": {},
   "outputs": [],
   "source": [
    "spark.sparkContext.setLogLevel(\"ERROR\")"
   ]
  },
  {
   "cell_type": "code",
   "execution_count": 7,
   "metadata": {},
   "outputs": [],
   "source": [
    "K = 5\n",
    "SEED=1234"
   ]
  },
  {
   "cell_type": "markdown",
   "metadata": {},
   "source": [
    "## 0. Data preprocessing <a name='data-preparator'></a>\n",
    "We will use the Million Song Dataset m as an example as it contains over 300'000 items."
   ]
  },
  {
   "cell_type": "code",
   "execution_count": 8,
   "metadata": {},
   "outputs": [],
   "source": [
    "# !pip install rs_datasets"
   ]
  },
  {
   "cell_type": "code",
   "execution_count": 9,
   "metadata": {},
   "outputs": [
    {
     "data": {
      "text/html": [
       "<style type='text/css'>\n",
       ".datatable table.frame { margin-bottom: 0; }\n",
       ".datatable table.frame thead { border-bottom: none; }\n",
       ".datatable table.frame tr.coltypes td {  color: #FFFFFF;  line-height: 6px;  padding: 0 0.5em;}\n",
       ".datatable .bool    { background: #DDDD99; }\n",
       ".datatable .object  { background: #565656; }\n",
       ".datatable .int     { background: #5D9E5D; }\n",
       ".datatable .float   { background: #4040CC; }\n",
       ".datatable .str     { background: #CC4040; }\n",
       ".datatable .time    { background: #40CC40; }\n",
       ".datatable .row_index {  background: var(--jp-border-color3);  border-right: 1px solid var(--jp-border-color0);  color: var(--jp-ui-font-color3);  font-size: 9px;}\n",
       ".datatable .frame tbody td { text-align: left; }\n",
       ".datatable .frame tr.coltypes .row_index {  background: var(--jp-border-color0);}\n",
       ".datatable th:nth-child(2) { padding-left: 12px; }\n",
       ".datatable .hellipsis {  color: var(--jp-cell-editor-border-color);}\n",
       ".datatable .vellipsis {  background: var(--jp-layout-color0);  color: var(--jp-cell-editor-border-color);}\n",
       ".datatable .na {  color: var(--jp-cell-editor-border-color);  font-size: 80%;}\n",
       ".datatable .sp {  opacity: 0.25;}\n",
       ".datatable .footer { font-size: 9px; }\n",
       ".datatable .frame_dimensions {  background: var(--jp-border-color3);  border-top: 1px solid var(--jp-border-color0);  color: var(--jp-ui-font-color3);  display: inline-block;  opacity: 0.6;  padding: 1px 10px 1px 5px;}\n",
       ".datatable .frame thead tr.colnames {  background-image: url('data:image/png;base64,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');  background-repeat: repeat-x;  background-size: 14px;  height: 28px;}\n",
       "</style>\n"
      ],
      "text/plain": [
       "<IPython.core.display.HTML object>"
      ]
     },
     "metadata": {},
     "output_type": "display_data"
    },
    {
     "name": "stdout",
     "output_type": "stream",
     "text": [
      "train\n"
     ]
    },
    {
     "data": {
      "text/html": [
       "<div>\n",
       "<style scoped>\n",
       "    .dataframe tbody tr th:only-of-type {\n",
       "        vertical-align: middle;\n",
       "    }\n",
       "\n",
       "    .dataframe tbody tr th {\n",
       "        vertical-align: top;\n",
       "    }\n",
       "\n",
       "    .dataframe thead th {\n",
       "        text-align: right;\n",
       "    }\n",
       "</style>\n",
       "<table border=\"1\" class=\"dataframe\">\n",
       "  <thead>\n",
       "    <tr style=\"text-align: right;\">\n",
       "      <th></th>\n",
       "      <th>user_id</th>\n",
       "      <th>item_id</th>\n",
       "      <th>play_count</th>\n",
       "    </tr>\n",
       "  </thead>\n",
       "  <tbody>\n",
       "    <tr>\n",
       "      <th>0</th>\n",
       "      <td>b80344d063b5ccb3212f76538f3d9e43d87dca9e</td>\n",
       "      <td>SOAKIMP12A8C130995</td>\n",
       "      <td>1</td>\n",
       "    </tr>\n",
       "    <tr>\n",
       "      <th>1</th>\n",
       "      <td>b80344d063b5ccb3212f76538f3d9e43d87dca9e</td>\n",
       "      <td>SOAPDEY12A81C210A9</td>\n",
       "      <td>1</td>\n",
       "    </tr>\n",
       "    <tr>\n",
       "      <th>2</th>\n",
       "      <td>b80344d063b5ccb3212f76538f3d9e43d87dca9e</td>\n",
       "      <td>SOBBMDR12A8C13253B</td>\n",
       "      <td>2</td>\n",
       "    </tr>\n",
       "  </tbody>\n",
       "</table>\n",
       "</div>"
      ],
      "text/plain": [
       "                                    user_id             item_id  play_count\n",
       "0  b80344d063b5ccb3212f76538f3d9e43d87dca9e  SOAKIMP12A8C130995           1\n",
       "1  b80344d063b5ccb3212f76538f3d9e43d87dca9e  SOAPDEY12A81C210A9           1\n",
       "2  b80344d063b5ccb3212f76538f3d9e43d87dca9e  SOBBMDR12A8C13253B           2"
      ]
     },
     "metadata": {},
     "output_type": "display_data"
    },
    {
     "name": "stdout",
     "output_type": "stream",
     "text": [
      "\n",
      "val\n"
     ]
    },
    {
     "data": {
      "text/html": [
       "<div>\n",
       "<style scoped>\n",
       "    .dataframe tbody tr th:only-of-type {\n",
       "        vertical-align: middle;\n",
       "    }\n",
       "\n",
       "    .dataframe tbody tr th {\n",
       "        vertical-align: top;\n",
       "    }\n",
       "\n",
       "    .dataframe thead th {\n",
       "        text-align: right;\n",
       "    }\n",
       "</style>\n",
       "<table border=\"1\" class=\"dataframe\">\n",
       "  <thead>\n",
       "    <tr style=\"text-align: right;\">\n",
       "      <th></th>\n",
       "      <th>user_id</th>\n",
       "      <th>item_id</th>\n",
       "      <th>play_count</th>\n",
       "    </tr>\n",
       "  </thead>\n",
       "  <tbody>\n",
       "    <tr>\n",
       "      <th>0</th>\n",
       "      <td>0007140a3796e901f3190f12e9de6d7548d4ac4a</td>\n",
       "      <td>SONVMBN12AC9075271</td>\n",
       "      <td>1</td>\n",
       "    </tr>\n",
       "    <tr>\n",
       "      <th>1</th>\n",
       "      <td>0007140a3796e901f3190f12e9de6d7548d4ac4a</td>\n",
       "      <td>SOVIGZG12A6D4FB188</td>\n",
       "      <td>1</td>\n",
       "    </tr>\n",
       "    <tr>\n",
       "      <th>2</th>\n",
       "      <td>0007140a3796e901f3190f12e9de6d7548d4ac4a</td>\n",
       "      <td>SOZGXYF12AB0185579</td>\n",
       "      <td>2</td>\n",
       "    </tr>\n",
       "  </tbody>\n",
       "</table>\n",
       "</div>"
      ],
      "text/plain": [
       "                                    user_id             item_id  play_count\n",
       "0  0007140a3796e901f3190f12e9de6d7548d4ac4a  SONVMBN12AC9075271           1\n",
       "1  0007140a3796e901f3190f12e9de6d7548d4ac4a  SOVIGZG12A6D4FB188           1\n",
       "2  0007140a3796e901f3190f12e9de6d7548d4ac4a  SOZGXYF12AB0185579           2"
      ]
     },
     "metadata": {},
     "output_type": "display_data"
    },
    {
     "name": "stdout",
     "output_type": "stream",
     "text": [
      "\n",
      "test\n"
     ]
    },
    {
     "data": {
      "text/html": [
       "<div>\n",
       "<style scoped>\n",
       "    .dataframe tbody tr th:only-of-type {\n",
       "        vertical-align: middle;\n",
       "    }\n",
       "\n",
       "    .dataframe tbody tr th {\n",
       "        vertical-align: top;\n",
       "    }\n",
       "\n",
       "    .dataframe thead th {\n",
       "        text-align: right;\n",
       "    }\n",
       "</style>\n",
       "<table border=\"1\" class=\"dataframe\">\n",
       "  <thead>\n",
       "    <tr style=\"text-align: right;\">\n",
       "      <th></th>\n",
       "      <th>user_id</th>\n",
       "      <th>item_id</th>\n",
       "      <th>play_count</th>\n",
       "    </tr>\n",
       "  </thead>\n",
       "  <tbody>\n",
       "    <tr>\n",
       "      <th>0</th>\n",
       "      <td>00007a02388c208ea7176479f6ae06f8224355b3</td>\n",
       "      <td>SOAITVD12A6D4F824B</td>\n",
       "      <td>3</td>\n",
       "    </tr>\n",
       "    <tr>\n",
       "      <th>1</th>\n",
       "      <td>00007a02388c208ea7176479f6ae06f8224355b3</td>\n",
       "      <td>SONZGLW12A6D4FBBC1</td>\n",
       "      <td>1</td>\n",
       "    </tr>\n",
       "    <tr>\n",
       "      <th>2</th>\n",
       "      <td>00007a02388c208ea7176479f6ae06f8224355b3</td>\n",
       "      <td>SOXNWYP12A6D4FBDC4</td>\n",
       "      <td>1</td>\n",
       "    </tr>\n",
       "  </tbody>\n",
       "</table>\n",
       "</div>"
      ],
      "text/plain": [
       "                                    user_id             item_id  play_count\n",
       "0  00007a02388c208ea7176479f6ae06f8224355b3  SOAITVD12A6D4F824B           3\n",
       "1  00007a02388c208ea7176479f6ae06f8224355b3  SONZGLW12A6D4FBBC1           1\n",
       "2  00007a02388c208ea7176479f6ae06f8224355b3  SOXNWYP12A6D4FBDC4           1"
      ]
     },
     "metadata": {},
     "output_type": "display_data"
    },
    {
     "name": "stdout",
     "output_type": "stream",
     "text": [
      "\n",
      "CPU times: user 15min 56s, sys: 15.1 s, total: 16min 11s\n",
      "Wall time: 2min 23s\n"
     ]
    }
   ],
   "source": [
    "%%time\n",
    "from rs_datasets import MillionSongDataset\n",
    "msd = MillionSongDataset()\n",
    "msd.info()"
   ]
  },
  {
   "cell_type": "markdown",
   "metadata": {},
   "source": [
    "### 0.1. DataPreparator"
   ]
  },
  {
   "cell_type": "code",
   "execution_count": 10,
   "metadata": {
    "jupyter": {
     "outputs_hidden": false
    }
   },
   "outputs": [
    {
     "name": "stderr",
     "output_type": "stream",
     "text": [
      "                                                                                \r"
     ]
    }
   ],
   "source": [
    "from replay.data_preparator import DataPreparator\n",
    "\n",
    "log = DataPreparator().transform(\n",
    "    data=msd.train,\n",
    "    columns_names={\n",
    "        \"user_id\": \"user_id\",\n",
    "        \"item_id\": \"item_id\",\n",
    "        \"relevance\": \"play_count\",\n",
    "    }\n",
    ")"
   ]
  },
  {
   "cell_type": "code",
   "execution_count": 11,
   "metadata": {},
   "outputs": [
    {
     "name": "stdout",
     "output_type": "stream",
     "text": [
      "+--------------------+------------------+---------+-------------------+\n",
      "|             user_id|           item_id|relevance|          timestamp|\n",
      "+--------------------+------------------+---------+-------------------+\n",
      "|b80344d063b5ccb32...|SOAKIMP12A8C130995|      1.0|1999-05-01 00:00:00|\n",
      "|b80344d063b5ccb32...|SOAPDEY12A81C210A9|      1.0|1999-05-01 00:00:00|\n",
      "|b80344d063b5ccb32...|SOBBMDR12A8C13253B|      2.0|1999-05-01 00:00:00|\n",
      "+--------------------+------------------+---------+-------------------+\n",
      "only showing top 3 rows\n",
      "\n"
     ]
    }
   ],
   "source": [
    "log.show(3)"
   ]
  },
  {
   "cell_type": "code",
   "execution_count": 12,
   "metadata": {},
   "outputs": [
    {
     "name": "stderr",
     "output_type": "stream",
     "text": [
      "                                                                                \r"
     ]
    },
    {
     "data": {
      "text/plain": [
       "'total lines: 45795100, total users: 1019318, total items: 378309'"
      ]
     },
     "execution_count": 12,
     "metadata": {},
     "output_type": "execute_result"
    }
   ],
   "source": [
    "from replay.utils import get_log_info\n",
    "get_log_info(log)"
   ]
  },
  {
   "cell_type": "markdown",
   "metadata": {},
   "source": [
    "### filter"
   ]
  },
  {
   "cell_type": "code",
   "execution_count": 13,
   "metadata": {},
   "outputs": [],
   "source": [
    "import pyspark.sql.functions as sf"
   ]
  },
  {
   "cell_type": "code",
   "execution_count": 22,
   "metadata": {},
   "outputs": [
    {
     "name": "stderr",
     "output_type": "stream",
     "text": [
      "                                                                                \r"
     ]
    },
    {
     "data": {
      "text/plain": [
       "<AxesSubplot:>"
      ]
     },
     "execution_count": 22,
     "metadata": {},
     "output_type": "execute_result"
    },
    {
     "data": {
      "image/png": "[encoded data removed]",
      "text/plain": [
       "<Figure size 432x288 with 1 Axes>"
      ]
     },
     "metadata": {
      "needs_background": "light"
     },
     "output_type": "display_data"
    }
   ],
   "source": [
    "log.groupBy('user_id').agg(sf.count('item_id').alias('num_items')).toPandas()['num_items'].hist(bins=50)"
   ]
  },
  {
   "cell_type": "code",
   "execution_count": 23,
   "metadata": {},
   "outputs": [
    {
     "name": "stderr",
     "output_type": "stream",
     "text": [
      "[Stage 19:===>                                                   (8 + 48) / 144]\r"
     ]
    },
    {
     "name": "stdout",
     "output_type": "stream",
     "text": [
      "+-------+--------------------+-----------------+\n",
      "|summary|             user_id|        num_items|\n",
      "+-------+--------------------+-----------------+\n",
      "|  count|             1019318|          1019318|\n",
      "|   mean|                null|44.92719641956681|\n",
      "| stddev|                null|54.91109265088129|\n",
      "|    min|00000b72200188206...|                3|\n",
      "|    max|fffff9534445f481b...|             4316|\n",
      "+-------+--------------------+-----------------+\n",
      "\n"
     ]
    },
    {
     "name": "stderr",
     "output_type": "stream",
     "text": [
      "\r",
      "[Stage 19:===============================>                      (84 + 48) / 144]\r",
      "\r",
      "                                                                                \r"
     ]
    }
   ],
   "source": [
    "log.groupBy('user_id').agg(sf.count('item_id').alias('num_items')).describe().show()"
   ]
  },
  {
   "cell_type": "code",
   "execution_count": 24,
   "metadata": {},
   "outputs": [
    {
     "name": "stderr",
     "output_type": "stream",
     "text": [
      "                                                                                \r"
     ]
    },
    {
     "data": {
      "text/plain": [
       "777701"
      ]
     },
     "execution_count": 24,
     "metadata": {},
     "output_type": "execute_result"
    }
   ],
   "source": [
    "long_hist_users = log.groupBy('user_id').agg(sf.count('item_id').alias('num_items')).filter(sf.col('num_items') > 14).select('user_id')\n",
    "long_hist_users.count()\n"
   ]
  },
  {
   "cell_type": "code",
   "execution_count": 25,
   "metadata": {},
   "outputs": [
    {
     "name": "stdout",
     "output_type": "stream",
     "text": [
      "CPU times: user 1.46 ms, sys: 0 ns, total: 1.46 ms\n",
      "Wall time: 46.2 ms\n"
     ]
    }
   ],
   "source": [
    "%%time\n",
    "log = log.join(long_hist_users.sample(0.5), on='user_id')"
   ]
  },
  {
   "cell_type": "code",
   "execution_count": 27,
   "metadata": {},
   "outputs": [
    {
     "name": "stderr",
     "output_type": "stream",
     "text": [
      "                                                                                \r"
     ]
    },
    {
     "data": {
      "text/plain": [
       "'total lines: 21519419, total users: 388611, total items: 348828'"
      ]
     },
     "execution_count": 27,
     "metadata": {},
     "output_type": "execute_result"
    }
   ],
   "source": [
    "log.cache()\n",
    "get_log_info(log)"
   ]
  },
  {
   "cell_type": "markdown",
   "metadata": {},
   "source": [
    "### 0.2. Split"
   ]
  },
  {
   "cell_type": "markdown",
   "metadata": {},
   "source": [
    "Let's take 2000 users and 5 interactions for each user to the test part. It is enough to show difference in speed between direct predict and predict with ANN search."
   ]
  },
  {
   "cell_type": "code",
   "execution_count": 29,
   "metadata": {
    "ExecuteTime": {
     "end_time": "2020-02-10T15:59:50.986401Z",
     "start_time": "2020-02-10T15:59:42.042998Z"
    },
    "jupyter": {
     "outputs_hidden": false
    }
   },
   "outputs": [
    {
     "name": "stderr",
     "output_type": "stream",
     "text": [
      "                                                                                \r"
     ]
    },
    {
     "data": {
      "text/plain": [
       "(21516919, 2490)"
      ]
     },
     "execution_count": 29,
     "metadata": {},
     "output_type": "execute_result"
    }
   ],
   "source": [
    "from replay.splitters import UserSplitter\n",
    "\n",
    "splitter = UserSplitter(\n",
    "    drop_cold_items=True,\n",
    "    drop_cold_users=True,\n",
    "    item_test_size=K,\n",
    "    user_test_size=500,\n",
    "    seed=SEED,\n",
    "    shuffle=True\n",
    ")\n",
    "train, test = splitter.split(log)\n",
    "(\n",
    "    train.count(), \n",
    "    test.count()\n",
    ")"
   ]
  },
  {
   "cell_type": "code",
   "execution_count": 30,
   "metadata": {},
   "outputs": [
    {
     "name": "stderr",
     "output_type": "stream",
     "text": [
      "                                                                                \r"
     ]
    }
   ],
   "source": [
    "train.write.parquet(path='train_ann_msd.parquet', mode='overwrite')\n",
    "test.write.parquet(path='test_ann_msd.parquet', mode='overwrite')"
   ]
  },
  {
   "cell_type": "code",
   "execution_count": 11,
   "metadata": {},
   "outputs": [],
   "source": [
    "train = spark.read.parquet('train_ann_msd.parquet')\n",
    "test = spark.read.parquet('test_ann_msd.parquet')"
   ]
  },
  {
   "cell_type": "markdown",
   "metadata": {},
   "source": [
    "## 1. Models training\n",
    "We will train ALS model and get direct prediction for 2 cases:\n",
    "- with filtering items seen in user history\n",
    "- without filtering items seen in user history\n",
    "\n",
    "#### ALS"
   ]
  },
  {
   "cell_type": "code",
   "execution_count": 20,
   "metadata": {},
   "outputs": [],
   "source": [
    "from replay.models import ALSWrap\n",
    "from replay.model_handler import save, load"
   ]
  },
  {
   "cell_type": "code",
   "execution_count": 32,
   "metadata": {
    "jupyter": {
     "outputs_hidden": false
    }
   },
   "outputs": [
    {
     "name": "stderr",
     "output_type": "stream",
     "text": [
      "                                                                                \r"
     ]
    },
    {
     "name": "stdout",
     "output_type": "stream",
     "text": [
      "CPU times: user 20.8 s, sys: 3.85 s, total: 24.6 s\n",
      "Wall time: 1h 11min 27s\n"
     ]
    }
   ],
   "source": [
    "%%time\n",
    "als = ALSWrap(rank=256, seed=SEED)\n",
    "als.fit(log=train)"
   ]
  },
  {
   "cell_type": "code",
   "execution_count": 33,
   "metadata": {},
   "outputs": [
    {
     "name": "stderr",
     "output_type": "stream",
     "text": [
      "                                                                                \r"
     ]
    }
   ],
   "source": [
    "save(als, 'als_msd')"
   ]
  },
  {
   "cell_type": "code",
   "execution_count": 34,
   "metadata": {},
   "outputs": [
    {
     "name": "stderr",
     "output_type": "stream",
     "text": [
      "[Stage 709:====================================================>(143 + 1) / 144]\r"
     ]
    },
    {
     "name": "stdout",
     "output_type": "stream",
     "text": [
      "CPU times: user 48.7 s, sys: 18.7 s, total: 1min 7s\n",
      "Wall time: 20min 48s\n"
     ]
    },
    {
     "name": "stderr",
     "output_type": "stream",
     "text": [
      "\r",
      "                                                                                \r"
     ]
    },
    {
     "data": {
      "text/plain": [
       "2500"
      ]
     },
     "execution_count": 34,
     "metadata": {},
     "output_type": "execute_result"
    }
   ],
   "source": [
    "%%time\n",
    "predict = als.predict(log=train, k=K, users=test.select('user_id').distinct(), filter_seen_items=True)\n",
    "predict.cache()\n",
    "predict.count()"
   ]
  },
  {
   "cell_type": "code",
   "execution_count": 35,
   "metadata": {},
   "outputs": [
    {
     "name": "stderr",
     "output_type": "stream",
     "text": [
      "[Stage 791:====================================================>(143 + 1) / 144]\r"
     ]
    },
    {
     "name": "stdout",
     "output_type": "stream",
     "text": [
      "CPU times: user 48.7 s, sys: 19.6 s, total: 1min 8s\n",
      "Wall time: 20min 35s\n"
     ]
    },
    {
     "name": "stderr",
     "output_type": "stream",
     "text": [
      "\r",
      "                                                                                \r"
     ]
    },
    {
     "data": {
      "text/plain": [
       "2500"
      ]
     },
     "execution_count": 35,
     "metadata": {},
     "output_type": "execute_result"
    }
   ],
   "source": [
    "%%time\n",
    "predict_seen = als.predict(log=train, k=K, users=test.select('user_id').distinct(), filter_seen_items=False)\n",
    "predict_seen.cache()\n",
    "predict_seen.count()"
   ]
  },
  {
   "cell_type": "markdown",
   "metadata": {},
   "source": [
    "Direct prediction takes about 7 minutes and time increases dramatically with the number of users / items."
   ]
  },
  {
   "cell_type": "code",
   "execution_count": 36,
   "metadata": {},
   "outputs": [
    {
     "name": "stderr",
     "output_type": "stream",
     "text": [
      "                                                                                \r"
     ]
    }
   ],
   "source": [
    "predict_seen.write.parquet(path='./als_pred_seen_to_compare_with_ann_msd.parquet', mode='overwrite')\n",
    "predict.write.parquet(path='./als_pred_to_compare_with_ann_msd.parquet', mode='overwrite')"
   ]
  },
  {
   "cell_type": "code",
   "execution_count": 13,
   "metadata": {},
   "outputs": [],
   "source": [
    "predict_seen = spark.read.parquet('./als_pred_seen_to_compare_with_ann_msd.parquet')\n",
    "predict = spark.read.parquet('./als_pred_to_compare_with_ann_msd.parquet')"
   ]
  },
  {
   "cell_type": "markdown",
   "metadata": {},
   "source": [
    "## 2. Evaluate prediction quality"
   ]
  },
  {
   "cell_type": "code",
   "execution_count": 76,
   "metadata": {
    "ExecuteTime": {
     "end_time": "2020-02-10T16:07:28.942205Z",
     "start_time": "2020-02-10T16:07:26.281475Z"
    },
    "jupyter": {
     "outputs_hidden": false
    }
   },
   "outputs": [],
   "source": [
    "from replay.metrics import Coverage, HitRate, NDCG, MAP\n",
    "from replay.experiment import Experiment"
   ]
  },
  {
   "cell_type": "code",
   "execution_count": 77,
   "metadata": {
    "ExecuteTime": {
     "end_time": "2020-02-10T16:07:28.942205Z",
     "start_time": "2020-02-10T16:07:26.281475Z"
    },
    "jupyter": {
     "outputs_hidden": false
    }
   },
   "outputs": [
    {
     "name": "stderr",
     "output_type": "stream",
     "text": [
      "                                                                                \r"
     ]
    }
   ],
   "source": [
    "prediction_quality = Experiment(test, {NDCG(): K,\n",
    "                            MAP() : K,\n",
    "                            HitRate(): [1, K],\n",
    "                            Coverage(train): K\n",
    "                           })"
   ]
  },
  {
   "cell_type": "code",
   "execution_count": 17,
   "metadata": {},
   "outputs": [
    {
     "name": "stderr",
     "output_type": "stream",
     "text": [
      "                                                                                \r"
     ]
    },
    {
     "name": "stdout",
     "output_type": "stream",
     "text": [
      "CPU times: user 163 ms, sys: 49.1 ms, total: 212 ms\n",
      "Wall time: 17.9 s\n"
     ]
    },
    {
     "data": {
      "text/html": [
       "<div>\n",
       "<style scoped>\n",
       "    .dataframe tbody tr th:only-of-type {\n",
       "        vertical-align: middle;\n",
       "    }\n",
       "\n",
       "    .dataframe tbody tr th {\n",
       "        vertical-align: top;\n",
       "    }\n",
       "\n",
       "    .dataframe thead th {\n",
       "        text-align: right;\n",
       "    }\n",
       "</style>\n",
       "<table border=\"1\" class=\"dataframe\">\n",
       "  <thead>\n",
       "    <tr style=\"text-align: right;\">\n",
       "      <th></th>\n",
       "      <th>Coverage@5</th>\n",
       "      <th>HitRate@1</th>\n",
       "      <th>HitRate@5</th>\n",
       "      <th>MAP@5</th>\n",
       "      <th>NDCG@5</th>\n",
       "    </tr>\n",
       "  </thead>\n",
       "  <tbody>\n",
       "    <tr>\n",
       "      <th>ALS_pred_filter_seen</th>\n",
       "      <td>0.003569</td>\n",
       "      <td>0.134</td>\n",
       "      <td>0.302</td>\n",
       "      <td>0.05688</td>\n",
       "      <td>0.094531</td>\n",
       "    </tr>\n",
       "    <tr>\n",
       "      <th>ALS_pred_with_seen</th>\n",
       "      <td>0.003111</td>\n",
       "      <td>0.034</td>\n",
       "      <td>0.156</td>\n",
       "      <td>0.01884</td>\n",
       "      <td>0.036709</td>\n",
       "    </tr>\n",
       "  </tbody>\n",
       "</table>\n",
       "</div>"
      ],
      "text/plain": [
       "                      Coverage@5  HitRate@1  HitRate@5    MAP@5    NDCG@5\n",
       "ALS_pred_filter_seen    0.003569      0.134      0.302  0.05688  0.094531\n",
       "ALS_pred_with_seen      0.003111      0.034      0.156  0.01884  0.036709"
      ]
     },
     "execution_count": 17,
     "metadata": {},
     "output_type": "execute_result"
    }
   ],
   "source": [
    "%%time\n",
    "prediction_quality.add_result(\"ALS_pred_with_seen\", predict_seen)\n",
    "prediction_quality.add_result(\"ALS_pred_filter_seen\", predict)\n",
    "prediction_quality.results.sort_values('NDCG@5', ascending=False)"
   ]
  },
  {
   "cell_type": "markdown",
   "metadata": {},
   "source": [
    "# 3. NMSLIB"
   ]
  },
  {
   "cell_type": "markdown",
   "metadata": {},
   "source": [
    "Let's get user's and item's vectors from als model and build ann index."
   ]
  },
  {
   "cell_type": "code",
   "execution_count": 18,
   "metadata": {},
   "outputs": [],
   "source": [
    "# !pip install --no-binary :all: nmslib"
   ]
  },
  {
   "cell_type": "code",
   "execution_count": 50,
   "metadata": {},
   "outputs": [
    {
     "name": "stderr",
     "output_type": "stream",
     "text": [
      "Your CPU supports instructions that this binary was not compiled to use: SSE3 SSE4.1 SSE4.2 AVX AVX2\n",
      "For maximum performance, you can install NMSLIB from sources \n",
      "pip install --no-binary :all: nmslib\n"
     ]
    }
   ],
   "source": [
    "import nmslib\n",
    "import numpy as np\n",
    "import pandas as pd\n",
    "\n",
    "import pyspark.sql.functions as sf\n",
    "from pyspark.sql import Window\n",
    "\n",
    "from replay.utils import get_top_k_recs\n"
   ]
  },
  {
   "cell_type": "code",
   "execution_count": 21,
   "metadata": {},
   "outputs": [
    {
     "name": "stderr",
     "output_type": "stream",
     "text": [
      "                                                                                \r"
     ]
    }
   ],
   "source": [
    "als = load('./als_msd')"
   ]
  },
  {
   "cell_type": "code",
   "execution_count": 15,
   "metadata": {},
   "outputs": [
    {
     "name": "stderr",
     "output_type": "stream",
     "text": [
      "                                                                                \r"
     ]
    }
   ],
   "source": [
    "train = spark.read.parquet('train_ann_msd.parquet')\n",
    "test = spark.read.parquet('test_ann_msd.parquet')\n",
    "predict = spark.read.parquet('./als_pred_to_compare_with_ann_msd.parquet')\n",
    "predict_seen = spark.read.parquet('./als_pred_seen_to_compare_with_ann_msd.parquet')"
   ]
  },
  {
   "cell_type": "code",
   "execution_count": 27,
   "metadata": {},
   "outputs": [],
   "source": [
    "def get_numpy_ids_vectors_from_als(id_vector_spark_df, id_name='item_id', vector_col_name='item_factors'):\n",
    "    vectors = id_vector_spark_df.toPandas()\n",
    "    ids = vectors[id_name].to_numpy()\n",
    "    vectors = vectors[vector_col_name].to_numpy()\n",
    "    return vectors, ids"
   ]
  },
  {
   "cell_type": "code",
   "execution_count": 28,
   "metadata": {},
   "outputs": [
    {
     "name": "stderr",
     "output_type": "stream",
     "text": [
      "                                                                                \r"
     ]
    },
    {
     "name": "stdout",
     "output_type": "stream",
     "text": [
      "CPU times: user 17 s, sys: 5.51 s, total: 22.5 s\n",
      "Wall time: 43 s\n"
     ]
    }
   ],
   "source": [
    "%%time\n",
    "user_vectors, _ = als.get_features(test.select('user_id').distinct())\n",
    "user_vectors_np, user_ids_np = get_numpy_ids_vectors_from_als(user_vectors, id_name='user_id', vector_col_name='user_factors')"
   ]
  },
  {
   "cell_type": "code",
   "execution_count": 29,
   "metadata": {},
   "outputs": [
    {
     "name": "stderr",
     "output_type": "stream",
     "text": [
      "                                                                                \r"
     ]
    },
    {
     "name": "stdout",
     "output_type": "stream",
     "text": [
      "CPU times: user 15.1 s, sys: 4.66 s, total: 19.7 s\n",
      "Wall time: 55.2 s\n"
     ]
    }
   ],
   "source": [
    "%%time\n",
    "item_vectors, _ = als.get_features(train.select('item_id').distinct())\n",
    "item_vectors_np, item_ids_np = get_numpy_ids_vectors_from_als(item_vectors, id_name='item_id', vector_col_name='item_factors')"
   ]
  },
  {
   "cell_type": "markdown",
   "metadata": {},
   "source": [
    "Let's build index on item vectors and search for nearest for the user vectors from test with negative dot product distance measure."
   ]
  },
  {
   "cell_type": "markdown",
   "metadata": {},
   "source": [
    "## index with default parameters\n",
    "Using hnsw index from nmslib as is"
   ]
  },
  {
   "cell_type": "code",
   "execution_count": 25,
   "metadata": {},
   "outputs": [
    {
     "name": "stdout",
     "output_type": "stream",
     "text": [
      "CPU times: user 8min 13s, sys: 26.5 s, total: 8min 39s\n",
      "Wall time: 14.6 s\n"
     ]
    }
   ],
   "source": [
    "%%time\n",
    "index = nmslib.init(method='hnsw', space='negdotprod', data_type=nmslib.DataType.DENSE_VECTOR)\n",
    "index.addDataPointBatch(data=np.stack(item_vectors_np))\n",
    "index.createIndex()"
   ]
  },
  {
   "cell_type": "code",
   "execution_count": 24,
   "metadata": {},
   "outputs": [],
   "source": [
    "def get_neighbours(index, vectors, user_ids_list, item_ids_list, k):\n",
    "    \"\"\"\n",
    "    - find nearest items based on user vector\n",
    "    - convert to spark and process columns to get `user_id, item_id, relevance` columns\n",
    "    - replace item numbers in index with item ids\n",
    "    \"\"\"\n",
    "    neighbours = index.knnQueryBatch(np.stack(vectors), k=k)\n",
    "    pd_res = pd.DataFrame(neighbours, columns=['item_idx', 'distance'])\n",
    "    pd_res['user_id'] = user_ids_list\n",
    "    spark_res = spark.createDataFrame(pd_res)\n",
    "    spark_res = spark_res.withColumn('zip_exp', sf.explode(sf.arrays_zip('item_idx', 'distance'))).select('user_id', 'zip_exp')\n",
    "    spark_res = spark_res.withColumn('item_idx', sf.col('zip_exp.item_idx'))\n",
    "    spark_res = spark_res.withColumn('distance', sf.col('zip_exp.distance'))\n",
    "    spark_res = (spark_res.withColumn('relevance',  sf.lit(-1.) * sf.col('distance'))\n",
    "                 .select('user_id', 'item_idx', 'relevance')\n",
    "                )\n",
    "    ids_mapping = spark.createDataFrame(list(zip(range(len(list(item_ids_list))),\n",
    "                                                 list(item_ids_list))),\n",
    "                                        schema=\"item_idx int, item_id string\")\n",
    "    spark_res = spark_res.join(ids_mapping, on='item_idx').drop('item_idx').orderBy('user_id')\n",
    "    return spark_res"
   ]
  },
  {
   "cell_type": "code",
   "execution_count": 51,
   "metadata": {},
   "outputs": [],
   "source": [
    "def filter_seen(log, pred, k, id_type='id'):\n",
    "    \"\"\"\n",
    "    filter items seen in log and leave top-k most relevant\n",
    "    \"\"\"\n",
    "    \n",
    "    user_id = 'user_' + id_type\n",
    "    item_id = 'item_' + id_type\n",
    "    num_of_seen = (\n",
    "            log.groupBy(user_id)\n",
    "            .agg(sf.count(item_id).alias(\"seen_count\"))\n",
    "        )\n",
    "\n",
    "\n",
    "    max_seen = num_of_seen.select(sf.max(\"seen_count\")).collect()[0][0]\n",
    "\n",
    "    recs = pred.withColumn(\n",
    "        \"temp_rank\",\n",
    "        sf.row_number().over(\n",
    "            Window.partitionBy(user_id).orderBy(\n",
    "                sf.col(\"relevance\").desc()\n",
    "            )\n",
    "        ),\n",
    "    ).filter(sf.col(\"temp_rank\") <= sf.lit(max_seen + k))\n",
    "    \n",
    "\n",
    "    \n",
    "    recs = (\n",
    "        recs.join(num_of_seen, on=user_id, how=\"left\")\n",
    "        .fillna(0)\n",
    "        .filter(\n",
    "            sf.col(\"temp_rank\") <= sf.col(\"seen_count\") + sf.lit(k)\n",
    "        )\n",
    "        .drop(\"temp_rank\", \"seen_count\")\n",
    "    )\n",
    "    \n",
    "    recs = recs.join(log, on=[user_id, item_id], how=\"anti\")\n",
    "    return get_top_k_recs(recs, k, id_type=id_type)"
   ]
  },
  {
   "cell_type": "code",
   "execution_count": 54,
   "metadata": {},
   "outputs": [
    {
     "name": "stderr",
     "output_type": "stream",
     "text": [
      "                                                                                \r"
     ]
    },
    {
     "data": {
      "text/plain": [
       "1545"
      ]
     },
     "execution_count": 54,
     "metadata": {},
     "output_type": "execute_result"
    }
   ],
   "source": [
    "max_items_to_retrieve = train.groupBy('user_id').agg(sf.count('item_id').alias('num_items')).select(sf.max('num_items')).collect()[0][0]\n",
    "max_items_to_retrieve"
   ]
  },
  {
   "cell_type": "markdown",
   "metadata": {},
   "source": [
    "We have maximum of more than 1000 seen items per user, and it is a lot, as to achieve proper quality we will need to retrieve 1545 + K items per users. Will take. There is a tradeoff between index construction/retrieval time and size and retrieval quality. Read about algorithm parameters and tuning [here](https://github.com/nmslib/nmslib/blob/master/manual/methods.md)."
   ]
  },
  {
   "cell_type": "code",
   "execution_count": 33,
   "metadata": {},
   "outputs": [
    {
     "name": "stderr",
     "output_type": "stream",
     "text": [
      "\r",
      "[Stage 88:==========>                                             (9 + 39) / 48]\r"
     ]
    },
    {
     "name": "stdout",
     "output_type": "stream",
     "text": [
      "CPU times: user 1.21 s, sys: 14.2 ms, total: 1.22 s\n",
      "Wall time: 2.16 s\n"
     ]
    },
    {
     "name": "stderr",
     "output_type": "stream",
     "text": [
      "\r",
      "                                                                                \r"
     ]
    },
    {
     "data": {
      "text/plain": [
       "2500"
      ]
     },
     "execution_count": 33,
     "metadata": {},
     "output_type": "execute_result"
    }
   ],
   "source": [
    "%%time\n",
    "ann_res_k = get_neighbours(index, user_vectors_np, user_ids_np, item_ids_np, K)\n",
    "ann_res_k.count()"
   ]
  },
  {
   "cell_type": "code",
   "execution_count": 38,
   "metadata": {},
   "outputs": [
    {
     "name": "stderr",
     "output_type": "stream",
     "text": [
      "[Stage 107:================================================>   (134 + 10) / 144]\r"
     ]
    },
    {
     "name": "stdout",
     "output_type": "stream",
     "text": [
      "CPU times: user 1.29 s, sys: 53 ms, total: 1.34 s\n",
      "Wall time: 12.6 s\n"
     ]
    },
    {
     "name": "stderr",
     "output_type": "stream",
     "text": [
      "\r",
      "                                                                                \r"
     ]
    },
    {
     "data": {
      "text/plain": [
       "2500"
      ]
     },
     "execution_count": 38,
     "metadata": {},
     "output_type": "execute_result"
    }
   ],
   "source": [
    "%%time\n",
    "ann_res = get_neighbours(index, user_vectors_np, user_ids_np, item_ids_np, K + max_items_to_retrieve)\n",
    "ann_res = filter_seen(train, ann_res, K)\n",
    "ann_res.count()"
   ]
  },
  {
   "cell_type": "code",
   "execution_count": 39,
   "metadata": {},
   "outputs": [],
   "source": [
    "index.saveIndex('index_msd')"
   ]
  },
  {
   "cell_type": "code",
   "execution_count": 40,
   "metadata": {},
   "outputs": [
    {
     "name": "stdout",
     "output_type": "stream",
     "text": [
      "393M\t./index_msd\r\n"
     ]
    }
   ],
   "source": [
    "! du -sh ./index_msd"
   ]
  },
  {
   "cell_type": "markdown",
   "metadata": {},
   "source": [
    "Prediction with ANN is significantly faster (13 seconds with 21 minutes)"
   ]
  },
  {
   "cell_type": "markdown",
   "metadata": {},
   "source": [
    "#### Predicting for more users\n",
    "evaluating time on prediction for 100'000 users"
   ]
  },
  {
   "cell_type": "code",
   "execution_count": 41,
   "metadata": {},
   "outputs": [
    {
     "name": "stderr",
     "output_type": "stream",
     "text": [
      "[Stage 116:===================================================> (140 + 4) / 144]\r"
     ]
    },
    {
     "name": "stdout",
     "output_type": "stream",
     "text": [
      "CPU times: user 17 s, sys: 5.94 s, total: 22.9 s\n",
      "Wall time: 51.5 s\n"
     ]
    },
    {
     "name": "stderr",
     "output_type": "stream",
     "text": [
      "\r",
      "                                                                                \r"
     ]
    },
    {
     "data": {
      "text/plain": [
       "116378"
      ]
     },
     "execution_count": 41,
     "metadata": {},
     "output_type": "execute_result"
    }
   ],
   "source": [
    "%%time\n",
    "user_vectors_big, _ = als.get_features(train.select('user_id').distinct().sample(0.3))\n",
    "user_vectors_big.count()"
   ]
  },
  {
   "cell_type": "code",
   "execution_count": 42,
   "metadata": {},
   "outputs": [
    {
     "name": "stderr",
     "output_type": "stream",
     "text": [
      "[Stage 135:==========================================>         (119 + 25) / 144]\r"
     ]
    },
    {
     "name": "stdout",
     "output_type": "stream",
     "text": [
      "CPU times: user 34.9 s, sys: 5.46 s, total: 40.3 s\n",
      "Wall time: 52.7 s\n"
     ]
    },
    {
     "name": "stderr",
     "output_type": "stream",
     "text": [
      "\r",
      "[Stage 136:===========================================>        (121 + 23) / 144]\r",
      "\r",
      "                                                                                \r"
     ]
    },
    {
     "data": {
      "text/plain": [
       "581890"
      ]
     },
     "execution_count": 42,
     "metadata": {},
     "output_type": "execute_result"
    }
   ],
   "source": [
    "%%time\n",
    "user_vectors_np_big, user_ids_np_big = get_numpy_ids_vectors_from_als(user_vectors_big, id_name='user_id', vector_col_name='user_factors')\n",
    "ann_res_big = get_neighbours(index, user_vectors_np_big, user_ids_np_big, item_ids_np, K + max_items_to_retrieve)\n",
    "ann_res_big = filter_seen(train, ann_res_big, K)\n",
    "ann_res_big.count()"
   ]
  },
  {
   "cell_type": "markdown",
   "metadata": {},
   "source": [
    "### Index precision evaluation"
   ]
  },
  {
   "cell_type": "markdown",
   "metadata": {},
   "source": [
    "Let's compare ann results with ground truths (model prediction) for two settings:\n",
    "    - selecting top-k (no seen items filtering)\n",
    "    - selecting top-k + maximal number of seen items and post-filtering\n",
    "\n",
    "We can expect better quality on the first task. "
   ]
  },
  {
   "cell_type": "code",
   "execution_count": 43,
   "metadata": {
    "ExecuteTime": {
     "end_time": "2020-02-10T16:07:28.942205Z",
     "start_time": "2020-02-10T16:07:26.281475Z"
    },
    "jupyter": {
     "outputs_hidden": false
    }
   },
   "outputs": [],
   "source": [
    "from replay.metrics import Precision\n",
    "from replay.experiment import Experiment"
   ]
  },
  {
   "cell_type": "code",
   "execution_count": 44,
   "metadata": {
    "ExecuteTime": {
     "end_time": "2020-02-10T16:07:28.942205Z",
     "start_time": "2020-02-10T16:07:26.281475Z"
    },
    "jupyter": {
     "outputs_hidden": false
    }
   },
   "outputs": [],
   "source": [
    "metrics_filter_seen = Experiment(predict, {Precision(): K})\n",
    "metrics_with_seen = Experiment(predict_seen, {Precision(): K})"
   ]
  },
  {
   "cell_type": "code",
   "execution_count": 45,
   "metadata": {},
   "outputs": [
    {
     "name": "stderr",
     "output_type": "stream",
     "text": [
      "[Stage 145:================================================>   (133 + 11) / 144]\r"
     ]
    },
    {
     "name": "stdout",
     "output_type": "stream",
     "text": [
      "CPU times: user 58.9 ms, sys: 4.6 ms, total: 63.5 ms\n",
      "Wall time: 4.08 s\n"
     ]
    },
    {
     "name": "stderr",
     "output_type": "stream",
     "text": [
      "\r",
      "                                                                                \r"
     ]
    },
    {
     "data": {
      "text/html": [
       "<div>\n",
       "<style scoped>\n",
       "    .dataframe tbody tr th:only-of-type {\n",
       "        vertical-align: middle;\n",
       "    }\n",
       "\n",
       "    .dataframe tbody tr th {\n",
       "        vertical-align: top;\n",
       "    }\n",
       "\n",
       "    .dataframe thead th {\n",
       "        text-align: right;\n",
       "    }\n",
       "</style>\n",
       "<table border=\"1\" class=\"dataframe\">\n",
       "  <thead>\n",
       "    <tr style=\"text-align: right;\">\n",
       "      <th></th>\n",
       "      <th>Precision@5</th>\n",
       "    </tr>\n",
       "  </thead>\n",
       "  <tbody>\n",
       "    <tr>\n",
       "      <th>Default_HNSW</th>\n",
       "      <td>0.8228</td>\n",
       "    </tr>\n",
       "  </tbody>\n",
       "</table>\n",
       "</div>"
      ],
      "text/plain": [
       "              Precision@5\n",
       "Default_HNSW       0.8228"
      ]
     },
     "execution_count": 45,
     "metadata": {},
     "output_type": "execute_result"
    }
   ],
   "source": [
    "%%time\n",
    "metrics_with_seen.add_result(\"Default_HNSW\", ann_res_k)\n",
    "metrics_with_seen.results"
   ]
  },
  {
   "cell_type": "code",
   "execution_count": 46,
   "metadata": {},
   "outputs": [
    {
     "name": "stderr",
     "output_type": "stream",
     "text": [
      "                                                                                \r"
     ]
    },
    {
     "data": {
      "text/html": [
       "<div>\n",
       "<style scoped>\n",
       "    .dataframe tbody tr th:only-of-type {\n",
       "        vertical-align: middle;\n",
       "    }\n",
       "\n",
       "    .dataframe tbody tr th {\n",
       "        vertical-align: top;\n",
       "    }\n",
       "\n",
       "    .dataframe thead th {\n",
       "        text-align: right;\n",
       "    }\n",
       "</style>\n",
       "<table border=\"1\" class=\"dataframe\">\n",
       "  <thead>\n",
       "    <tr style=\"text-align: right;\">\n",
       "      <th></th>\n",
       "      <th>Precision@5</th>\n",
       "    </tr>\n",
       "  </thead>\n",
       "  <tbody>\n",
       "    <tr>\n",
       "      <th>Default_HNSW</th>\n",
       "      <td>0.8352</td>\n",
       "    </tr>\n",
       "  </tbody>\n",
       "</table>\n",
       "</div>"
      ],
      "text/plain": [
       "              Precision@5\n",
       "Default_HNSW       0.8352"
      ]
     },
     "execution_count": 46,
     "metadata": {},
     "output_type": "execute_result"
    }
   ],
   "source": [
    "metrics_filter_seen.add_result(\"Default_HNSW\", ann_res)\n",
    "metrics_filter_seen.results"
   ]
  },
  {
   "cell_type": "code",
   "execution_count": 47,
   "metadata": {},
   "outputs": [
    {
     "name": "stderr",
     "output_type": "stream",
     "text": [
      "                                                                                \r"
     ]
    },
    {
     "name": "stdout",
     "output_type": "stream",
     "text": [
      "CPU times: user 343 ms, sys: 162 ms, total: 506 ms\n",
      "Wall time: 54.8 s\n"
     ]
    },
    {
     "data": {
      "text/html": [
       "<div>\n",
       "<style scoped>\n",
       "    .dataframe tbody tr th:only-of-type {\n",
       "        vertical-align: middle;\n",
       "    }\n",
       "\n",
       "    .dataframe tbody tr th {\n",
       "        vertical-align: top;\n",
       "    }\n",
       "\n",
       "    .dataframe thead th {\n",
       "        text-align: right;\n",
       "    }\n",
       "</style>\n",
       "<table border=\"1\" class=\"dataframe\">\n",
       "  <thead>\n",
       "    <tr style=\"text-align: right;\">\n",
       "      <th></th>\n",
       "      <th>Coverage@5</th>\n",
       "      <th>HitRate@1</th>\n",
       "      <th>HitRate@5</th>\n",
       "      <th>MAP@5</th>\n",
       "      <th>NDCG@5</th>\n",
       "    </tr>\n",
       "  </thead>\n",
       "  <tbody>\n",
       "    <tr>\n",
       "      <th>ALS_pred_filter_seen</th>\n",
       "      <td>0.003569</td>\n",
       "      <td>0.134</td>\n",
       "      <td>0.302</td>\n",
       "      <td>0.056880</td>\n",
       "      <td>0.094531</td>\n",
       "    </tr>\n",
       "    <tr>\n",
       "      <th>HNSW_pred_filter_seen</th>\n",
       "      <td>0.003807</td>\n",
       "      <td>0.134</td>\n",
       "      <td>0.288</td>\n",
       "      <td>0.056240</td>\n",
       "      <td>0.091713</td>\n",
       "    </tr>\n",
       "    <tr>\n",
       "      <th>HNSW_pred_with_seen</th>\n",
       "      <td>0.003337</td>\n",
       "      <td>0.038</td>\n",
       "      <td>0.154</td>\n",
       "      <td>0.019987</td>\n",
       "      <td>0.038041</td>\n",
       "    </tr>\n",
       "    <tr>\n",
       "      <th>ALS_pred_with_seen</th>\n",
       "      <td>0.003111</td>\n",
       "      <td>0.034</td>\n",
       "      <td>0.156</td>\n",
       "      <td>0.018840</td>\n",
       "      <td>0.036709</td>\n",
       "    </tr>\n",
       "  </tbody>\n",
       "</table>\n",
       "</div>"
      ],
      "text/plain": [
       "                       Coverage@5  HitRate@1  HitRate@5     MAP@5    NDCG@5\n",
       "ALS_pred_filter_seen     0.003569      0.134      0.302  0.056880  0.094531\n",
       "HNSW_pred_filter_seen    0.003807      0.134      0.288  0.056240  0.091713\n",
       "HNSW_pred_with_seen      0.003337      0.038      0.154  0.019987  0.038041\n",
       "ALS_pred_with_seen       0.003111      0.034      0.156  0.018840  0.036709"
      ]
     },
     "execution_count": 47,
     "metadata": {},
     "output_type": "execute_result"
    }
   ],
   "source": [
    "%%time\n",
    "prediction_quality.add_result(\"HNSW_pred_with_seen\", ann_res_k)\n",
    "prediction_quality.add_result(\"HNSW_pred_filter_seen\", ann_res)\n",
    "prediction_quality.results.sort_values('NDCG@5', ascending=False)"
   ]
  },
  {
   "cell_type": "markdown",
   "metadata": {},
   "source": [
    "## index with more complex parameters"
   ]
  },
  {
   "cell_type": "markdown",
   "metadata": {},
   "source": [
    "Lets increase parameters to improve retrieval quality: \n",
    "- M defines the maximum number of neighbors in the zero and above-zero layers\n",
    "- ef defines the number of vertex to try on each level to find nearest\n",
    "\n",
    "See example of index building with nmslib [here](https://github.com/nmslib/nmslib/blob/master/python_bindings/notebooks/search_vector_dense_optim.ipynb)"
   ]
  },
  {
   "cell_type": "code",
   "execution_count": 48,
   "metadata": {},
   "outputs": [
    {
     "name": "stdout",
     "output_type": "stream",
     "text": [
      "CPU times: user 2h 29min 45s, sys: 1min 53s, total: 2h 31min 38s\n",
      "Wall time: 4min 10s\n"
     ]
    }
   ],
   "source": [
    "%%time\n",
    "index = nmslib.init(method='hnsw', space='negdotprod', data_type=nmslib.DataType.DENSE_VECTOR)\n",
    "index.addDataPointBatch(data=np.stack(item_vectors_np))\n",
    "index.createIndex(index_params={'efConstruction':1000, 'M':64})"
   ]
  },
  {
   "cell_type": "code",
   "execution_count": 49,
   "metadata": {},
   "outputs": [],
   "source": [
    "query_time_params = {'efSearch': 1000}\n",
    "index.setQueryTimeParams(query_time_params)"
   ]
  },
  {
   "cell_type": "code",
   "execution_count": 50,
   "metadata": {},
   "outputs": [
    {
     "name": "stderr",
     "output_type": "stream",
     "text": [
      "\r",
      "[Stage 272:===>          (12 + 36) / 48][Stage 273:>              (0 + 12) / 46]\r",
      "\r",
      "[Stage 273:============================================>          (37 + 9) / 46]\r"
     ]
    },
    {
     "name": "stdout",
     "output_type": "stream",
     "text": [
      "CPU times: user 18.5 s, sys: 91.7 ms, total: 18.5 s\n",
      "Wall time: 2.67 s\n"
     ]
    },
    {
     "name": "stderr",
     "output_type": "stream",
     "text": [
      "\r",
      "                                                                                \r"
     ]
    },
    {
     "data": {
      "text/plain": [
       "2500"
      ]
     },
     "execution_count": 50,
     "metadata": {},
     "output_type": "execute_result"
    }
   ],
   "source": [
    "%%time\n",
    "ann_res_k = get_neighbours(index, user_vectors_np, user_ids_np, item_ids_np, K)\n",
    "ann_res_k.count()"
   ]
  },
  {
   "cell_type": "code",
   "execution_count": 51,
   "metadata": {},
   "outputs": [
    {
     "name": "stderr",
     "output_type": "stream",
     "text": [
      "[Stage 289:===================================>                 (97 + 47) / 144]\r"
     ]
    },
    {
     "name": "stdout",
     "output_type": "stream",
     "text": [
      "CPU times: user 19.5 s, sys: 199 ms, total: 19.7 s\n",
      "Wall time: 9.02 s\n"
     ]
    },
    {
     "name": "stderr",
     "output_type": "stream",
     "text": [
      "\r",
      "                                                                                \r"
     ]
    },
    {
     "data": {
      "text/plain": [
       "2500"
      ]
     },
     "execution_count": 51,
     "metadata": {},
     "output_type": "execute_result"
    }
   ],
   "source": [
    "%%time\n",
    "ann_res = get_neighbours(index, user_vectors_np, user_ids_np, item_ids_np, K + max_items_to_retrieve)\n",
    "ann_res = filter_seen(train, ann_res, K)\n",
    "ann_res.count()"
   ]
  },
  {
   "cell_type": "code",
   "execution_count": 52,
   "metadata": {},
   "outputs": [],
   "source": [
    "index.saveIndex('big_index_mds')"
   ]
  },
  {
   "cell_type": "code",
   "execution_count": 53,
   "metadata": {},
   "outputs": [
    {
     "name": "stdout",
     "output_type": "stream",
     "text": [
      "521M\t./big_index_mds\r\n"
     ]
    }
   ],
   "source": [
    "! du -sh ./big_index_mds"
   ]
  },
  {
   "cell_type": "markdown",
   "metadata": {},
   "source": [
    "#### Predicting for more users"
   ]
  },
  {
   "cell_type": "code",
   "execution_count": 54,
   "metadata": {},
   "outputs": [
    {
     "name": "stderr",
     "output_type": "stream",
     "text": [
      "[Stage 305:===================================================> (141 + 3) / 144]\r"
     ]
    },
    {
     "name": "stdout",
     "output_type": "stream",
     "text": [
      "CPU times: user 49min 29s, sys: 47.4 s, total: 50min 17s\n",
      "Wall time: 6min 33s\n"
     ]
    },
    {
     "name": "stderr",
     "output_type": "stream",
     "text": [
      "\r",
      "                                                                                \r"
     ]
    },
    {
     "data": {
      "text/plain": [
       "581890"
      ]
     },
     "execution_count": 54,
     "metadata": {},
     "output_type": "execute_result"
    }
   ],
   "source": [
    "%%time\n",
    "ann_res_big = get_neighbours(index, user_vectors_np_big, user_ids_np_big, item_ids_np, K + max_items_to_retrieve)\n",
    "ann_res_big = filter_seen(train, ann_res_big, K)\n",
    "ann_res_big.count()"
   ]
  },
  {
   "cell_type": "markdown",
   "metadata": {},
   "source": [
    "### Index precision evaluation"
   ]
  },
  {
   "cell_type": "code",
   "execution_count": 55,
   "metadata": {},
   "outputs": [
    {
     "name": "stderr",
     "output_type": "stream",
     "text": [
      "[Stage 316:==========================================>         (118 + 26) / 144]\r"
     ]
    },
    {
     "name": "stdout",
     "output_type": "stream",
     "text": [
      "CPU times: user 37.9 ms, sys: 31.1 ms, total: 69 ms\n",
      "Wall time: 5.82 s\n"
     ]
    },
    {
     "name": "stderr",
     "output_type": "stream",
     "text": [
      "\r",
      "[Stage 316:=================================================>   (135 + 9) / 144]\r",
      "\r",
      "                                                                                \r"
     ]
    },
    {
     "data": {
      "text/html": [
       "<div>\n",
       "<style scoped>\n",
       "    .dataframe tbody tr th:only-of-type {\n",
       "        vertical-align: middle;\n",
       "    }\n",
       "\n",
       "    .dataframe tbody tr th {\n",
       "        vertical-align: top;\n",
       "    }\n",
       "\n",
       "    .dataframe thead th {\n",
       "        text-align: right;\n",
       "    }\n",
       "</style>\n",
       "<table border=\"1\" class=\"dataframe\">\n",
       "  <thead>\n",
       "    <tr style=\"text-align: right;\">\n",
       "      <th></th>\n",
       "      <th>Precision@5</th>\n",
       "    </tr>\n",
       "  </thead>\n",
       "  <tbody>\n",
       "    <tr>\n",
       "      <th>Default_HNSW</th>\n",
       "      <td>0.8228</td>\n",
       "    </tr>\n",
       "    <tr>\n",
       "      <th>tuned_HNSW</th>\n",
       "      <td>1.0000</td>\n",
       "    </tr>\n",
       "  </tbody>\n",
       "</table>\n",
       "</div>"
      ],
      "text/plain": [
       "              Precision@5\n",
       "Default_HNSW       0.8228\n",
       "tuned_HNSW         1.0000"
      ]
     },
     "execution_count": 55,
     "metadata": {},
     "output_type": "execute_result"
    }
   ],
   "source": [
    "%%time\n",
    "metrics_with_seen.add_result(\"tuned_HNSW\", ann_res_k)\n",
    "metrics_with_seen.results"
   ]
  },
  {
   "cell_type": "code",
   "execution_count": 56,
   "metadata": {},
   "outputs": [
    {
     "name": "stderr",
     "output_type": "stream",
     "text": [
      "                                                                                \r"
     ]
    },
    {
     "data": {
      "text/html": [
       "<div>\n",
       "<style scoped>\n",
       "    .dataframe tbody tr th:only-of-type {\n",
       "        vertical-align: middle;\n",
       "    }\n",
       "\n",
       "    .dataframe tbody tr th {\n",
       "        vertical-align: top;\n",
       "    }\n",
       "\n",
       "    .dataframe thead th {\n",
       "        text-align: right;\n",
       "    }\n",
       "</style>\n",
       "<table border=\"1\" class=\"dataframe\">\n",
       "  <thead>\n",
       "    <tr style=\"text-align: right;\">\n",
       "      <th></th>\n",
       "      <th>Precision@5</th>\n",
       "    </tr>\n",
       "  </thead>\n",
       "  <tbody>\n",
       "    <tr>\n",
       "      <th>Default_HNSW</th>\n",
       "      <td>0.8352</td>\n",
       "    </tr>\n",
       "    <tr>\n",
       "      <th>tuned_HNSW</th>\n",
       "      <td>0.9984</td>\n",
       "    </tr>\n",
       "  </tbody>\n",
       "</table>\n",
       "</div>"
      ],
      "text/plain": [
       "              Precision@5\n",
       "Default_HNSW       0.8352\n",
       "tuned_HNSW         0.9984"
      ]
     },
     "execution_count": 56,
     "metadata": {},
     "output_type": "execute_result"
    }
   ],
   "source": [
    "metrics_filter_seen.add_result(\"tuned_HNSW\", ann_res)\n",
    "metrics_filter_seen.results"
   ]
  },
  {
   "cell_type": "code",
   "execution_count": 57,
   "metadata": {},
   "outputs": [
    {
     "name": "stderr",
     "output_type": "stream",
     "text": [
      "                                                                                \r"
     ]
    },
    {
     "name": "stdout",
     "output_type": "stream",
     "text": [
      "CPU times: user 247 ms, sys: 219 ms, total: 466 ms\n",
      "Wall time: 37.2 s\n"
     ]
    },
    {
     "data": {
      "text/html": [
       "<div>\n",
       "<style scoped>\n",
       "    .dataframe tbody tr th:only-of-type {\n",
       "        vertical-align: middle;\n",
       "    }\n",
       "\n",
       "    .dataframe tbody tr th {\n",
       "        vertical-align: top;\n",
       "    }\n",
       "\n",
       "    .dataframe thead th {\n",
       "        text-align: right;\n",
       "    }\n",
       "</style>\n",
       "<table border=\"1\" class=\"dataframe\">\n",
       "  <thead>\n",
       "    <tr style=\"text-align: right;\">\n",
       "      <th></th>\n",
       "      <th>Coverage@5</th>\n",
       "      <th>HitRate@1</th>\n",
       "      <th>HitRate@5</th>\n",
       "      <th>MAP@5</th>\n",
       "      <th>NDCG@5</th>\n",
       "    </tr>\n",
       "  </thead>\n",
       "  <tbody>\n",
       "    <tr>\n",
       "      <th>ALS_pred_filter_seen</th>\n",
       "      <td>0.003569</td>\n",
       "      <td>0.134</td>\n",
       "      <td>0.302</td>\n",
       "      <td>0.056880</td>\n",
       "      <td>0.094531</td>\n",
       "    </tr>\n",
       "    <tr>\n",
       "      <th>tuned_HNSW_pred_filter_seen</th>\n",
       "      <td>0.003575</td>\n",
       "      <td>0.134</td>\n",
       "      <td>0.300</td>\n",
       "      <td>0.056780</td>\n",
       "      <td>0.094239</td>\n",
       "    </tr>\n",
       "    <tr>\n",
       "      <th>HNSW_pred_filter_seen</th>\n",
       "      <td>0.003807</td>\n",
       "      <td>0.134</td>\n",
       "      <td>0.288</td>\n",
       "      <td>0.056240</td>\n",
       "      <td>0.091713</td>\n",
       "    </tr>\n",
       "    <tr>\n",
       "      <th>HNSW_pred_with_seen</th>\n",
       "      <td>0.003337</td>\n",
       "      <td>0.038</td>\n",
       "      <td>0.154</td>\n",
       "      <td>0.019987</td>\n",
       "      <td>0.038041</td>\n",
       "    </tr>\n",
       "    <tr>\n",
       "      <th>ALS_pred_with_seen</th>\n",
       "      <td>0.003111</td>\n",
       "      <td>0.034</td>\n",
       "      <td>0.156</td>\n",
       "      <td>0.018840</td>\n",
       "      <td>0.036709</td>\n",
       "    </tr>\n",
       "    <tr>\n",
       "      <th>tuned_HNSW_pred_with_seen</th>\n",
       "      <td>0.003111</td>\n",
       "      <td>0.034</td>\n",
       "      <td>0.156</td>\n",
       "      <td>0.018840</td>\n",
       "      <td>0.036709</td>\n",
       "    </tr>\n",
       "  </tbody>\n",
       "</table>\n",
       "</div>"
      ],
      "text/plain": [
       "                             Coverage@5  HitRate@1  HitRate@5     MAP@5  \\\n",
       "ALS_pred_filter_seen           0.003569      0.134      0.302  0.056880   \n",
       "tuned_HNSW_pred_filter_seen    0.003575      0.134      0.300  0.056780   \n",
       "HNSW_pred_filter_seen          0.003807      0.134      0.288  0.056240   \n",
       "HNSW_pred_with_seen            0.003337      0.038      0.154  0.019987   \n",
       "ALS_pred_with_seen             0.003111      0.034      0.156  0.018840   \n",
       "tuned_HNSW_pred_with_seen      0.003111      0.034      0.156  0.018840   \n",
       "\n",
       "                               NDCG@5  \n",
       "ALS_pred_filter_seen         0.094531  \n",
       "tuned_HNSW_pred_filter_seen  0.094239  \n",
       "HNSW_pred_filter_seen        0.091713  \n",
       "HNSW_pred_with_seen          0.038041  \n",
       "ALS_pred_with_seen           0.036709  \n",
       "tuned_HNSW_pred_with_seen    0.036709  "
      ]
     },
     "execution_count": 57,
     "metadata": {},
     "output_type": "execute_result"
    }
   ],
   "source": [
    "%%time\n",
    "prediction_quality.add_result(\"tuned_HNSW_pred_with_seen\", ann_res_k)\n",
    "prediction_quality.add_result(\"tuned_HNSW_pred_filter_seen\", ann_res)\n",
    "prediction_quality.results.sort_values('NDCG@5', ascending=False)"
   ]
  },
  {
   "cell_type": "markdown",
   "metadata": {},
   "source": [
    "Index quality increased and achieved precision = 1. \n",
    "You can try to use hnsw, faiss, annoy of any other ANN library to build you index and get faster prediction for vector models."
   ]
  },
  {
   "cell_type": "markdown",
   "metadata": {},
   "source": [
    "# MlLIb LSH\n",
    "Locality Sensitive Hashing from pyspark MlLib.\n",
    "Read MlLib documentation for [BucketedRandomProjectionLSH](https://spark.apache.org/docs/3.1.1/api/python/reference/api/pyspark.ml.feature.BucketedRandomProjectionLSH.html#pyspark.ml.feature.BucketedRandomProjectionLSH) and [fitted BucketedRandomProjectionLSH model](https://spark.apache.org/docs/3.1.1/api/python/reference/api/pyspark.ml.feature.BucketedRandomProjectionLSHModel.html#pyspark.ml.feature.BucketedRandomProjectionLSHModel)"
   ]
  },
  {
   "cell_type": "markdown",
   "metadata": {},
   "source": [
    "Advantage of BucketedRandomProjectionLSH is it uses spark and does not require data collection to driver and conversion to python. Disadvantages are the complexity of parameters selection and only one distance measure, euclidean distance, which is not connected with the dot product used in ALS."
   ]
  },
  {
   "cell_type": "code",
   "execution_count": 45,
   "metadata": {},
   "outputs": [],
   "source": [
    "from pyspark.ml.feature import BucketedRandomProjectionLSH"
   ]
  },
  {
   "cell_type": "code",
   "execution_count": 34,
   "metadata": {},
   "outputs": [],
   "source": [
    "from pyspark.ml.linalg import Vectors, VectorUDT\n",
    "from pyspark.sql.functions import udf\n",
    "list_to_vector_udf = udf(lambda l: Vectors.dense(l), VectorUDT())"
   ]
  },
  {
   "cell_type": "markdown",
   "metadata": {},
   "source": [
    "### Convert user and item ids to integer and save"
   ]
  },
  {
   "cell_type": "code",
   "execution_count": 2,
   "metadata": {},
   "outputs": [],
   "source": [
    "from pyspark.ml.feature import IndexToString, StringIndexer"
   ]
  },
  {
   "cell_type": "code",
   "execution_count": 17,
   "metadata": {},
   "outputs": [
    {
     "name": "stderr",
     "output_type": "stream",
     "text": [
      "                                                                                \r"
     ]
    },
    {
     "name": "stdout",
     "output_type": "stream",
     "text": [
      "CPU times: user 7.55 s, sys: 652 ms, total: 8.2 s\n",
      "Wall time: 37.6 s\n"
     ]
    }
   ],
   "source": [
    "%%time\n",
    "\n",
    "user_indexer = StringIndexer(\n",
    "    inputCol=\"user_id\", outputCol=\"user_idx\"\n",
    ").fit(log.select('user_id').distinct())\n",
    "item_indexer = StringIndexer(\n",
    "    inputCol=\"item_id\", outputCol=\"item_idx\"\n",
    ").fit(log.select('item_id').distinct())\n",
    "\n",
    "inv_user_indexer = IndexToString(\n",
    "    inputCol=\"user_idx\",\n",
    "    outputCol=\"user_id\",\n",
    "    labels=user_indexer.labels,\n",
    ")\n",
    "inv_item_indexer = IndexToString(\n",
    "    inputCol=\"item_idx\",\n",
    "    outputCol=\"item_id\",\n",
    "    labels=item_indexer.labels,\n",
    ")"
   ]
  },
  {
   "cell_type": "code",
   "execution_count": 35,
   "metadata": {},
   "outputs": [
    {
     "name": "stdout",
     "output_type": "stream",
     "text": [
      "CPU times: user 33.5 ms, sys: 20.5 ms, total: 54 ms\n",
      "Wall time: 132 ms\n"
     ]
    }
   ],
   "source": [
    "%%time\n",
    "user_vectors_brp = (user_indexer.transform(user_vectors)\n",
    "                    .withColumn('user_idx', sf.col('user_idx').cast(\"int\"))\n",
    "                    .drop('user_id')\n",
    "                    .withColumnRenamed('user_idx', 'id')\n",
    "                    .withColumn('features', list_to_vector_udf(sf.col('user_factors')))\n",
    "                    .drop('user_factors')\n",
    "                   )\n",
    "item_vectors_brp = (item_indexer.transform(item_vectors)\n",
    "                    .withColumn('item_idx', sf.col('item_idx').cast(\"int\"))\n",
    "                    .drop('item_id')\n",
    "                    .withColumnRenamed('item_idx', 'id')\n",
    "                    .withColumn('features', list_to_vector_udf(sf.col('item_factors')))\n",
    "                    .drop('item_factors')\n",
    "                   )"
   ]
  },
  {
   "cell_type": "code",
   "execution_count": 36,
   "metadata": {},
   "outputs": [
    {
     "name": "stderr",
     "output_type": "stream",
     "text": [
      "[Stage 95:=====================================================>(143 + 1) / 144]\r"
     ]
    },
    {
     "name": "stdout",
     "output_type": "stream",
     "text": [
      "CPU times: user 93.7 ms, sys: 13.1 ms, total: 107 ms\n",
      "Wall time: 54.4 s\n"
     ]
    },
    {
     "name": "stderr",
     "output_type": "stream",
     "text": [
      "\r",
      "                                                                                \r"
     ]
    }
   ],
   "source": [
    "%%time\n",
    "user_vectors_brp.write.parquet(path='user_vectors_lsh.parquet', mode='overwrite')\n",
    "item_vectors_brp.write.parquet(path='item_vectors_lsh.parquet', mode='overwrite')"
   ]
  },
  {
   "cell_type": "code",
   "execution_count": 37,
   "metadata": {},
   "outputs": [],
   "source": [
    "user_vectors_brp=spark.read.parquet('user_vectors_lsh.parquet')\n",
    "item_vectors_brp=spark.read.parquet('item_vectors_lsh.parquet')"
   ]
  },
  {
   "cell_type": "code",
   "execution_count": 38,
   "metadata": {},
   "outputs": [
    {
     "name": "stdout",
     "output_type": "stream",
     "text": [
      "+------+--------------------+\n",
      "|    id|            features|\n",
      "+------+--------------------+\n",
      "|609619|[-0.1389203965663...|\n",
      "|864912|[0.01281957328319...|\n",
      "+------+--------------------+\n",
      "only showing top 2 rows\n",
      "\n"
     ]
    }
   ],
   "source": [
    "user_vectors_brp.show(2)"
   ]
  },
  {
   "cell_type": "markdown",
   "metadata": {},
   "source": [
    "### Normalize vectors for better index performance and easier selection of bucketLength"
   ]
  },
  {
   "cell_type": "code",
   "execution_count": 41,
   "metadata": {},
   "outputs": [],
   "source": [
    "import pyspark.sql.types as st\n",
    "from pyspark.ml.linalg import DenseVector"
   ]
  },
  {
   "cell_type": "code",
   "execution_count": 42,
   "metadata": {},
   "outputs": [],
   "source": [
    "@sf.udf(returnType=VectorUDT())\n",
    "def norm_vector(first: DenseVector) -> DenseVector:\n",
    "    return first * (1/float(first.dot(first))) ** 0.5"
   ]
  },
  {
   "cell_type": "code",
   "execution_count": 43,
   "metadata": {},
   "outputs": [
    {
     "name": "stderr",
     "output_type": "stream",
     "text": [
      "                                                                                \r"
     ]
    },
    {
     "data": {
      "text/plain": [
       "500"
      ]
     },
     "execution_count": 43,
     "metadata": {},
     "output_type": "execute_result"
    }
   ],
   "source": [
    "item_vectors_brp_n = item_vectors_brp.withColumn('features', norm_vector(sf.col('features')))\n",
    "user_vectors_brp_n = user_vectors_brp.withColumn('features', norm_vector(sf.col('features')))\n",
    "item_vectors_brp_n.cache()\n",
    "user_vectors_brp_n.cache()\n",
    "item_vectors_brp_n.count()\n",
    "user_vectors_brp_n.count()"
   ]
  },
  {
   "cell_type": "markdown",
   "metadata": {},
   "source": [
    "[MlLib documentation](https://spark.apache.org/docs/3.1.1/api/python/reference/api/pyspark.ml.feature.BucketedRandomProjectionLSHModel.html#pyspark.ml.feature.BucketedRandomProjectionLSHModel) says that the number of buckets will be (max L2 norm of input vectors) / bucketLength.\n",
    "\n",
    "    \n",
    "It is important to properly choose the bucketLength and other hyperparameters otherwise you will experience either lack of neighbours or significant performance degradation or both.\n",
    "\n",
    "Here is example of bucketLength selection:\n",
    "Assuming we want to have at least 10'000 neighbours for each item. We have 348818 items and if we take 25 buckets, the required number of neighbours will be achieved with overhead (assuming uniform distribution, which is not guaranteed). Max L2 norm of input vectors is 1, thus the bucketLength may be 1 / 25 = 0.04.\n",
    "\n",
    "Important fit parameters are bucketLength (the greater, the more candidates to neighbours, but leads to performance degradation) and numHashTables (the greater the better accuracy)."
   ]
  },
  {
   "cell_type": "markdown",
   "metadata": {},
   "source": [
    "### Initial parameters"
   ]
  },
  {
   "cell_type": "code",
   "execution_count": 46,
   "metadata": {},
   "outputs": [
    {
     "name": "stdout",
     "output_type": "stream",
     "text": [
      "CPU times: user 6.21 ms, sys: 4.12 ms, total: 10.3 ms\n",
      "Wall time: 10.4 s\n"
     ]
    }
   ],
   "source": [
    "%%time\n",
    "brp = BucketedRandomProjectionLSH(inputCol='features', seed=SEED, bucketLength=0.04, numHashTables=1)\n",
    "brp_model = brp.fit(item_vectors_brp_n)"
   ]
  },
  {
   "cell_type": "code",
   "execution_count": 72,
   "metadata": {},
   "outputs": [],
   "source": [
    "def convert_back(inv_user_indexer, inv_item_indexer, log):\n",
    "    res = log\n",
    "    if \"user_idx\" in log.columns:\n",
    "        res = (\n",
    "            inv_user_indexer.transform(res)\n",
    "            .drop(\"user_idx\")\n",
    "            .withColumn(\"user_id\", sf.col(\"user_id\").cast(train.schema[\"user_id\"].dataType))\n",
    "        )\n",
    "    if \"item_idx\" in log.columns:\n",
    "        res = (\n",
    "            inv_item_indexer.transform(res)\n",
    "            .drop(\"item_idx\")\n",
    "            .withColumn(\"item_id\", sf.col(\"item_id\").cast(train.schema[\"item_id\"].dataType))\n",
    "        )\n",
    "    return res"
   ]
  },
  {
   "cell_type": "code",
   "execution_count": 69,
   "metadata": {},
   "outputs": [],
   "source": [
    "def get_pred_from_brp(fitted_brp):\n",
    "    test_all = fitted_brp.approxSimilarityJoin(user_vectors_brp_n, \n",
    "                                          item_vectors_brp_n,\n",
    "                                          threshold = 1.,\n",
    "                                          distCol=\"EuclideanDistance\").select(\n",
    "    sf.col(\"datasetA.id\").alias(\"user_idx\"),\n",
    "    sf.col(\"datasetB.id\").alias(\"item_idx\"),\n",
    "    (sf.col(\"EuclideanDistance\") * sf.lit(-1)).alias('relevance'))\n",
    "    \n",
    "    test_res = test_all.withColumn(\"temp_rank\",\n",
    "        sf.row_number().over(\n",
    "            Window.partitionBy(\"user_idx\").orderBy(\n",
    "                sf.col(\"relevance\").desc()\n",
    "            )\n",
    "        )\n",
    "    ).filter(sf.col(\"temp_rank\") <= sf.lit(max_items_to_retrieve + K))\n",
    "\n",
    "    test_res = convert_back(inv_user_indexer, inv_item_indexer, test_res)\n",
    "    test_res.cache()\n",
    "    test_res_filter = get_top_k_recs(filter_seen(train, test_res, K), K)\n",
    "    test_res = get_top_k_recs(test_res, K)\n",
    "    test_res.cache()\n",
    "    test_res.count()\n",
    "    return test_res_filter, test_res"
   ]
  },
  {
   "cell_type": "code",
   "execution_count": null,
   "metadata": {},
   "outputs": [],
   "source": [
    "%%time\n",
    "brp_pred_filtered, brp_pred = get_pred_from_brp(brp_model)"
   ]
  },
  {
   "cell_type": "markdown",
   "metadata": {},
   "source": [
    "### Having a look at the prediction precision"
   ]
  },
  {
   "cell_type": "code",
   "execution_count": 70,
   "metadata": {},
   "outputs": [
    {
     "name": "stderr",
     "output_type": "stream",
     "text": [
      "                                                                                \r"
     ]
    },
    {
     "data": {
      "image/png": "[encoded data removed]",
      "text/plain": [
       "<Figure size 432x288 with 1 Axes>"
      ]
     },
     "metadata": {
      "needs_background": "light"
     },
     "output_type": "display_data"
    }
   ],
   "source": [
    "brp_pred_filtered.groupBy('user_id').agg(sf.count('item_id').alias('num_items')).toPandas()['num_items'].hist(bins=20);"
   ]
  },
  {
   "cell_type": "code",
   "execution_count": 71,
   "metadata": {},
   "outputs": [
    {
     "name": "stderr",
     "output_type": "stream",
     "text": [
      "                                                                                \r"
     ]
    },
    {
     "data": {
      "image/png": "[encoded data removed]",
      "text/plain": [
       "<Figure size 432x288 with 1 Axes>"
      ]
     },
     "metadata": {
      "needs_background": "light"
     },
     "output_type": "display_data"
    }
   ],
   "source": [
    "brp_pred.groupBy('user_id').agg(sf.count('item_id').alias('num_items')).toPandas()['num_items'].hist(bins=20);"
   ]
  },
  {
   "cell_type": "code",
   "execution_count": 72,
   "metadata": {},
   "outputs": [
    {
     "name": "stderr",
     "output_type": "stream",
     "text": [
      "                                                                                \r"
     ]
    },
    {
     "data": {
      "text/html": [
       "<div>\n",
       "<style scoped>\n",
       "    .dataframe tbody tr th:only-of-type {\n",
       "        vertical-align: middle;\n",
       "    }\n",
       "\n",
       "    .dataframe tbody tr th {\n",
       "        vertical-align: top;\n",
       "    }\n",
       "\n",
       "    .dataframe thead th {\n",
       "        text-align: right;\n",
       "    }\n",
       "</style>\n",
       "<table border=\"1\" class=\"dataframe\">\n",
       "  <thead>\n",
       "    <tr style=\"text-align: right;\">\n",
       "      <th></th>\n",
       "      <th>Coverage@5</th>\n",
       "      <th>HitRate@1</th>\n",
       "      <th>HitRate@5</th>\n",
       "      <th>MAP@5</th>\n",
       "      <th>NDCG@5</th>\n",
       "    </tr>\n",
       "  </thead>\n",
       "  <tbody>\n",
       "    <tr>\n",
       "      <th>ALS_pred_filter_seen</th>\n",
       "      <td>0.003569</td>\n",
       "      <td>0.134</td>\n",
       "      <td>0.302</td>\n",
       "      <td>0.056880</td>\n",
       "      <td>0.094531</td>\n",
       "    </tr>\n",
       "    <tr>\n",
       "      <th>tuned_HNSW_pred_filter_seen</th>\n",
       "      <td>0.003575</td>\n",
       "      <td>0.134</td>\n",
       "      <td>0.300</td>\n",
       "      <td>0.056780</td>\n",
       "      <td>0.094239</td>\n",
       "    </tr>\n",
       "    <tr>\n",
       "      <th>HNSW_pred_filter_seen</th>\n",
       "      <td>0.003807</td>\n",
       "      <td>0.134</td>\n",
       "      <td>0.288</td>\n",
       "      <td>0.056240</td>\n",
       "      <td>0.091713</td>\n",
       "    </tr>\n",
       "    <tr>\n",
       "      <th>HNSW_pred_with_seen</th>\n",
       "      <td>0.003337</td>\n",
       "      <td>0.038</td>\n",
       "      <td>0.154</td>\n",
       "      <td>0.019987</td>\n",
       "      <td>0.038041</td>\n",
       "    </tr>\n",
       "    <tr>\n",
       "      <th>ALS_pred_with_seen</th>\n",
       "      <td>0.003111</td>\n",
       "      <td>0.034</td>\n",
       "      <td>0.156</td>\n",
       "      <td>0.018840</td>\n",
       "      <td>0.036709</td>\n",
       "    </tr>\n",
       "    <tr>\n",
       "      <th>tuned_HNSW_pred_with_seen</th>\n",
       "      <td>0.003111</td>\n",
       "      <td>0.034</td>\n",
       "      <td>0.156</td>\n",
       "      <td>0.018840</td>\n",
       "      <td>0.036709</td>\n",
       "    </tr>\n",
       "    <tr>\n",
       "      <th>LSH_filter_seen_normed</th>\n",
       "      <td>0.002890</td>\n",
       "      <td>0.048</td>\n",
       "      <td>0.082</td>\n",
       "      <td>0.016060</td>\n",
       "      <td>0.027026</td>\n",
       "    </tr>\n",
       "    <tr>\n",
       "      <th>LSH_with_seen_normed</th>\n",
       "      <td>0.003314</td>\n",
       "      <td>0.026</td>\n",
       "      <td>0.070</td>\n",
       "      <td>0.008913</td>\n",
       "      <td>0.017258</td>\n",
       "    </tr>\n",
       "  </tbody>\n",
       "</table>\n",
       "</div>"
      ],
      "text/plain": [
       "                             Coverage@5  HitRate@1  HitRate@5     MAP@5  \\\n",
       "ALS_pred_filter_seen           0.003569      0.134      0.302  0.056880   \n",
       "tuned_HNSW_pred_filter_seen    0.003575      0.134      0.300  0.056780   \n",
       "HNSW_pred_filter_seen          0.003807      0.134      0.288  0.056240   \n",
       "HNSW_pred_with_seen            0.003337      0.038      0.154  0.019987   \n",
       "ALS_pred_with_seen             0.003111      0.034      0.156  0.018840   \n",
       "tuned_HNSW_pred_with_seen      0.003111      0.034      0.156  0.018840   \n",
       "LSH_filter_seen_normed         0.002890      0.048      0.082  0.016060   \n",
       "LSH_with_seen_normed           0.003314      0.026      0.070  0.008913   \n",
       "\n",
       "                               NDCG@5  \n",
       "ALS_pred_filter_seen         0.094531  \n",
       "tuned_HNSW_pred_filter_seen  0.094239  \n",
       "HNSW_pred_filter_seen        0.091713  \n",
       "HNSW_pred_with_seen          0.038041  \n",
       "ALS_pred_with_seen           0.036709  \n",
       "tuned_HNSW_pred_with_seen    0.036709  \n",
       "LSH_filter_seen_normed       0.027026  \n",
       "LSH_with_seen_normed         0.017258  "
      ]
     },
     "execution_count": 72,
     "metadata": {},
     "output_type": "execute_result"
    }
   ],
   "source": [
    "prediction_quality.add_result(\"LSH_with_seen_normed\", brp_pred)\n",
    "prediction_quality.add_result(\"LSH_filter_seen_normed\", brp_pred_filtered)\n",
    "prediction_quality.results.sort_values('NDCG@5', ascending=False)"
   ]
  },
  {
   "cell_type": "code",
   "execution_count": 73,
   "metadata": {},
   "outputs": [
    {
     "name": "stderr",
     "output_type": "stream",
     "text": [
      "                                                                                \r"
     ]
    },
    {
     "name": "stdout",
     "output_type": "stream",
     "text": [
      "CPU times: user 29.3 ms, sys: 22.4 ms, total: 51.7 ms\n",
      "Wall time: 4.51 s\n"
     ]
    },
    {
     "data": {
      "text/html": [
       "<div>\n",
       "<style scoped>\n",
       "    .dataframe tbody tr th:only-of-type {\n",
       "        vertical-align: middle;\n",
       "    }\n",
       "\n",
       "    .dataframe tbody tr th {\n",
       "        vertical-align: top;\n",
       "    }\n",
       "\n",
       "    .dataframe thead th {\n",
       "        text-align: right;\n",
       "    }\n",
       "</style>\n",
       "<table border=\"1\" class=\"dataframe\">\n",
       "  <thead>\n",
       "    <tr style=\"text-align: right;\">\n",
       "      <th></th>\n",
       "      <th>Precision@5</th>\n",
       "    </tr>\n",
       "  </thead>\n",
       "  <tbody>\n",
       "    <tr>\n",
       "      <th>Default_HNSW</th>\n",
       "      <td>0.8228</td>\n",
       "    </tr>\n",
       "    <tr>\n",
       "      <th>tuned_HNSW</th>\n",
       "      <td>1.0000</td>\n",
       "    </tr>\n",
       "    <tr>\n",
       "      <th>LSH_normed</th>\n",
       "      <td>0.1985</td>\n",
       "    </tr>\n",
       "  </tbody>\n",
       "</table>\n",
       "</div>"
      ],
      "text/plain": [
       "              Precision@5\n",
       "Default_HNSW       0.8228\n",
       "tuned_HNSW         1.0000\n",
       "LSH_normed         0.1985"
      ]
     },
     "execution_count": 73,
     "metadata": {},
     "output_type": "execute_result"
    }
   ],
   "source": [
    "%%time\n",
    "metrics_with_seen.add_result(\"LSH_normed\", brp_pred)\n",
    "metrics_with_seen.results"
   ]
  },
  {
   "cell_type": "code",
   "execution_count": 74,
   "metadata": {},
   "outputs": [
    {
     "name": "stderr",
     "output_type": "stream",
     "text": [
      "                                                                                \r"
     ]
    },
    {
     "data": {
      "text/html": [
       "<div>\n",
       "<style scoped>\n",
       "    .dataframe tbody tr th:only-of-type {\n",
       "        vertical-align: middle;\n",
       "    }\n",
       "\n",
       "    .dataframe tbody tr th {\n",
       "        vertical-align: top;\n",
       "    }\n",
       "\n",
       "    .dataframe thead th {\n",
       "        text-align: right;\n",
       "    }\n",
       "</style>\n",
       "<table border=\"1\" class=\"dataframe\">\n",
       "  <thead>\n",
       "    <tr style=\"text-align: right;\">\n",
       "      <th></th>\n",
       "      <th>Precision@5</th>\n",
       "    </tr>\n",
       "  </thead>\n",
       "  <tbody>\n",
       "    <tr>\n",
       "      <th>Default_HNSW</th>\n",
       "      <td>0.8352</td>\n",
       "    </tr>\n",
       "    <tr>\n",
       "      <th>tuned_HNSW</th>\n",
       "      <td>0.9984</td>\n",
       "    </tr>\n",
       "    <tr>\n",
       "      <th>LSH_normed</th>\n",
       "      <td>0.1025</td>\n",
       "    </tr>\n",
       "  </tbody>\n",
       "</table>\n",
       "</div>"
      ],
      "text/plain": [
       "              Precision@5\n",
       "Default_HNSW       0.8352\n",
       "tuned_HNSW         0.9984\n",
       "LSH_normed         0.1025"
      ]
     },
     "execution_count": 74,
     "metadata": {},
     "output_type": "execute_result"
    }
   ],
   "source": [
    "metrics_filter_seen.add_result(\"LSH_normed\", brp_pred_filtered)\n",
    "metrics_filter_seen.results"
   ]
  },
  {
   "cell_type": "markdown",
   "metadata": {},
   "source": [
    "#### Predicting for more users"
   ]
  },
  {
   "cell_type": "code",
   "execution_count": 75,
   "metadata": {},
   "outputs": [
    {
     "name": "stderr",
     "output_type": "stream",
     "text": [
      "                                                                                \r"
     ]
    },
    {
     "data": {
      "text/plain": [
       "116378"
      ]
     },
     "execution_count": 75,
     "metadata": {},
     "output_type": "execute_result"
    }
   ],
   "source": [
    "user_vectors_brp_big = (user_indexer.transform(user_vectors_big)\n",
    "                    .withColumn('user_idx', sf.col('user_idx').cast(\"int\"))\n",
    "                    .drop('user_id')\n",
    "                    .withColumnRenamed('user_idx', 'id')\n",
    "                    .withColumn('features', list_to_vector_udf(sf.col('user_factors')))\n",
    "                    .drop('user_factors')\n",
    "                   )\n",
    "\n",
    "user_vectors_brp_big.cache()\n",
    "user_vectors_brp_big.count()"
   ]
  },
  {
   "cell_type": "markdown",
   "metadata": {},
   "source": [
    "### More tables and wider buckets"
   ]
  },
  {
   "cell_type": "code",
   "execution_count": 76,
   "metadata": {},
   "outputs": [
    {
     "name": "stdout",
     "output_type": "stream",
     "text": [
      "CPU times: user 4.62 ms, sys: 83 µs, total: 4.71 ms\n",
      "Wall time: 44.5 ms\n"
     ]
    }
   ],
   "source": [
    "%%time\n",
    "brp = BucketedRandomProjectionLSH(inputCol='features', seed=SEED, bucketLength=0.1, numHashTables=5)\n",
    "brp_model = brp.fit(item_vectors_brp_n)"
   ]
  },
  {
   "cell_type": "code",
   "execution_count": 77,
   "metadata": {},
   "outputs": [
    {
     "name": "stderr",
     "output_type": "stream",
     "text": [
      "[Stage 607:==================================>                  (95 + 48) / 144]\r"
     ]
    },
    {
     "name": "stdout",
     "output_type": "stream",
     "text": [
      "CPU times: user 27.2 s, sys: 9.17 s, total: 36.4 s\n",
      "Wall time: 1min 44s\n"
     ]
    },
    {
     "name": "stderr",
     "output_type": "stream",
     "text": [
      "\r",
      "[Stage 607:===================================================> (139 + 5) / 144]\r",
      "\r",
      "                                                                                \r"
     ]
    }
   ],
   "source": [
    "%%time\n",
    "brp_pred_filtered, brp_pred = get_pred_from_brp(brp_model)"
   ]
  },
  {
   "cell_type": "markdown",
   "metadata": {},
   "source": [
    "### Having a look at the prediction precision"
   ]
  },
  {
   "cell_type": "code",
   "execution_count": 78,
   "metadata": {},
   "outputs": [
    {
     "name": "stderr",
     "output_type": "stream",
     "text": [
      "                                                                                \r"
     ]
    },
    {
     "data": {
      "image/png": "[encoded data removed]",
      "text/plain": [
       "<Figure size 432x288 with 1 Axes>"
      ]
     },
     "metadata": {
      "needs_background": "light"
     },
     "output_type": "display_data"
    }
   ],
   "source": [
    "brp_pred_filtered.groupBy('user_id').agg(sf.count('item_id').alias('num_items')).toPandas()['num_items'].hist(bins=20);"
   ]
  },
  {
   "cell_type": "code",
   "execution_count": 79,
   "metadata": {},
   "outputs": [
    {
     "name": "stderr",
     "output_type": "stream",
     "text": [
      "                                                                                \r"
     ]
    },
    {
     "data": {
      "image/png": "[encoded data removed]",
      "text/plain": [
       "<Figure size 432x288 with 1 Axes>"
      ]
     },
     "metadata": {
      "needs_background": "light"
     },
     "output_type": "display_data"
    }
   ],
   "source": [
    "brp_pred.groupBy('user_id').agg(sf.count('item_id').alias('num_items')).toPandas()['num_items'].hist(bins=20);"
   ]
  },
  {
   "cell_type": "markdown",
   "metadata": {},
   "source": [
    "As we can see we did not get enough items for some users. The decision could be wider buckets of greater threshold in join, but this could slow down an inference significantly."
   ]
  },
  {
   "cell_type": "code",
   "execution_count": 80,
   "metadata": {},
   "outputs": [
    {
     "name": "stderr",
     "output_type": "stream",
     "text": [
      "                                                                                \r"
     ]
    },
    {
     "data": {
      "text/html": [
       "<div>\n",
       "<style scoped>\n",
       "    .dataframe tbody tr th:only-of-type {\n",
       "        vertical-align: middle;\n",
       "    }\n",
       "\n",
       "    .dataframe tbody tr th {\n",
       "        vertical-align: top;\n",
       "    }\n",
       "\n",
       "    .dataframe thead th {\n",
       "        text-align: right;\n",
       "    }\n",
       "</style>\n",
       "<table border=\"1\" class=\"dataframe\">\n",
       "  <thead>\n",
       "    <tr style=\"text-align: right;\">\n",
       "      <th></th>\n",
       "      <th>Coverage@5</th>\n",
       "      <th>HitRate@1</th>\n",
       "      <th>HitRate@5</th>\n",
       "      <th>MAP@5</th>\n",
       "      <th>NDCG@5</th>\n",
       "    </tr>\n",
       "  </thead>\n",
       "  <tbody>\n",
       "    <tr>\n",
       "      <th>ALS_pred_filter_seen</th>\n",
       "      <td>0.003569</td>\n",
       "      <td>0.134</td>\n",
       "      <td>0.302</td>\n",
       "      <td>0.056880</td>\n",
       "      <td>0.094531</td>\n",
       "    </tr>\n",
       "    <tr>\n",
       "      <th>tuned_HNSW_pred_filter_seen</th>\n",
       "      <td>0.003575</td>\n",
       "      <td>0.134</td>\n",
       "      <td>0.300</td>\n",
       "      <td>0.056780</td>\n",
       "      <td>0.094239</td>\n",
       "    </tr>\n",
       "    <tr>\n",
       "      <th>HNSW_pred_filter_seen</th>\n",
       "      <td>0.003807</td>\n",
       "      <td>0.134</td>\n",
       "      <td>0.288</td>\n",
       "      <td>0.056240</td>\n",
       "      <td>0.091713</td>\n",
       "    </tr>\n",
       "    <tr>\n",
       "      <th>LSH_filter_seen_normed_better</th>\n",
       "      <td>0.003873</td>\n",
       "      <td>0.086</td>\n",
       "      <td>0.182</td>\n",
       "      <td>0.034097</td>\n",
       "      <td>0.057568</td>\n",
       "    </tr>\n",
       "    <tr>\n",
       "      <th>HNSW_pred_with_seen</th>\n",
       "      <td>0.003337</td>\n",
       "      <td>0.038</td>\n",
       "      <td>0.154</td>\n",
       "      <td>0.019987</td>\n",
       "      <td>0.038041</td>\n",
       "    </tr>\n",
       "    <tr>\n",
       "      <th>ALS_pred_with_seen</th>\n",
       "      <td>0.003111</td>\n",
       "      <td>0.034</td>\n",
       "      <td>0.156</td>\n",
       "      <td>0.018840</td>\n",
       "      <td>0.036709</td>\n",
       "    </tr>\n",
       "    <tr>\n",
       "      <th>tuned_HNSW_pred_with_seen</th>\n",
       "      <td>0.003111</td>\n",
       "      <td>0.034</td>\n",
       "      <td>0.156</td>\n",
       "      <td>0.018840</td>\n",
       "      <td>0.036709</td>\n",
       "    </tr>\n",
       "    <tr>\n",
       "      <th>LSH_filter_seen_normed</th>\n",
       "      <td>0.002890</td>\n",
       "      <td>0.048</td>\n",
       "      <td>0.082</td>\n",
       "      <td>0.016060</td>\n",
       "      <td>0.027026</td>\n",
       "    </tr>\n",
       "    <tr>\n",
       "      <th>LSH_with_seen_normed_better</th>\n",
       "      <td>0.004349</td>\n",
       "      <td>0.016</td>\n",
       "      <td>0.112</td>\n",
       "      <td>0.010390</td>\n",
       "      <td>0.022711</td>\n",
       "    </tr>\n",
       "    <tr>\n",
       "      <th>LSH_with_seen_normed</th>\n",
       "      <td>0.003314</td>\n",
       "      <td>0.026</td>\n",
       "      <td>0.070</td>\n",
       "      <td>0.008913</td>\n",
       "      <td>0.017258</td>\n",
       "    </tr>\n",
       "  </tbody>\n",
       "</table>\n",
       "</div>"
      ],
      "text/plain": [
       "                               Coverage@5  HitRate@1  HitRate@5     MAP@5  \\\n",
       "ALS_pred_filter_seen             0.003569      0.134      0.302  0.056880   \n",
       "tuned_HNSW_pred_filter_seen      0.003575      0.134      0.300  0.056780   \n",
       "HNSW_pred_filter_seen            0.003807      0.134      0.288  0.056240   \n",
       "LSH_filter_seen_normed_better    0.003873      0.086      0.182  0.034097   \n",
       "HNSW_pred_with_seen              0.003337      0.038      0.154  0.019987   \n",
       "ALS_pred_with_seen               0.003111      0.034      0.156  0.018840   \n",
       "tuned_HNSW_pred_with_seen        0.003111      0.034      0.156  0.018840   \n",
       "LSH_filter_seen_normed           0.002890      0.048      0.082  0.016060   \n",
       "LSH_with_seen_normed_better      0.004349      0.016      0.112  0.010390   \n",
       "LSH_with_seen_normed             0.003314      0.026      0.070  0.008913   \n",
       "\n",
       "                                 NDCG@5  \n",
       "ALS_pred_filter_seen           0.094531  \n",
       "tuned_HNSW_pred_filter_seen    0.094239  \n",
       "HNSW_pred_filter_seen          0.091713  \n",
       "LSH_filter_seen_normed_better  0.057568  \n",
       "HNSW_pred_with_seen            0.038041  \n",
       "ALS_pred_with_seen             0.036709  \n",
       "tuned_HNSW_pred_with_seen      0.036709  \n",
       "LSH_filter_seen_normed         0.027026  \n",
       "LSH_with_seen_normed_better    0.022711  \n",
       "LSH_with_seen_normed           0.017258  "
      ]
     },
     "execution_count": 80,
     "metadata": {},
     "output_type": "execute_result"
    }
   ],
   "source": [
    "prediction_quality.add_result(\"LSH_with_seen_normed_better\", brp_pred)\n",
    "prediction_quality.add_result(\"LSH_filter_seen_normed_better\", brp_pred_filtered)\n",
    "prediction_quality.results.sort_values('NDCG@5', ascending=False)"
   ]
  },
  {
   "cell_type": "code",
   "execution_count": 81,
   "metadata": {},
   "outputs": [
    {
     "name": "stderr",
     "output_type": "stream",
     "text": [
      "                                                                                \r"
     ]
    },
    {
     "name": "stdout",
     "output_type": "stream",
     "text": [
      "CPU times: user 38.1 ms, sys: 9.09 ms, total: 47.2 ms\n",
      "Wall time: 5.4 s\n"
     ]
    },
    {
     "data": {
      "text/html": [
       "<div>\n",
       "<style scoped>\n",
       "    .dataframe tbody tr th:only-of-type {\n",
       "        vertical-align: middle;\n",
       "    }\n",
       "\n",
       "    .dataframe tbody tr th {\n",
       "        vertical-align: top;\n",
       "    }\n",
       "\n",
       "    .dataframe thead th {\n",
       "        text-align: right;\n",
       "    }\n",
       "</style>\n",
       "<table border=\"1\" class=\"dataframe\">\n",
       "  <thead>\n",
       "    <tr style=\"text-align: right;\">\n",
       "      <th></th>\n",
       "      <th>Precision@5</th>\n",
       "    </tr>\n",
       "  </thead>\n",
       "  <tbody>\n",
       "    <tr>\n",
       "      <th>tuned_HNSW</th>\n",
       "      <td>1.0000</td>\n",
       "    </tr>\n",
       "    <tr>\n",
       "      <th>Default_HNSW</th>\n",
       "      <td>0.8228</td>\n",
       "    </tr>\n",
       "    <tr>\n",
       "      <th>LSH_normed_better</th>\n",
       "      <td>0.3595</td>\n",
       "    </tr>\n",
       "    <tr>\n",
       "      <th>LSH_normed</th>\n",
       "      <td>0.1985</td>\n",
       "    </tr>\n",
       "  </tbody>\n",
       "</table>\n",
       "</div>"
      ],
      "text/plain": [
       "                   Precision@5\n",
       "tuned_HNSW              1.0000\n",
       "Default_HNSW            0.8228\n",
       "LSH_normed_better       0.3595\n",
       "LSH_normed              0.1985"
      ]
     },
     "execution_count": 81,
     "metadata": {},
     "output_type": "execute_result"
    }
   ],
   "source": [
    "%%time\n",
    "metrics_with_seen.add_result(\"LSH_normed_better\", brp_pred)\n",
    "metrics_with_seen.results.sort_values('Precision@5', ascending=False)"
   ]
  },
  {
   "cell_type": "code",
   "execution_count": 82,
   "metadata": {},
   "outputs": [
    {
     "name": "stderr",
     "output_type": "stream",
     "text": [
      "                                                                                \r"
     ]
    },
    {
     "data": {
      "text/html": [
       "<div>\n",
       "<style scoped>\n",
       "    .dataframe tbody tr th:only-of-type {\n",
       "        vertical-align: middle;\n",
       "    }\n",
       "\n",
       "    .dataframe tbody tr th {\n",
       "        vertical-align: top;\n",
       "    }\n",
       "\n",
       "    .dataframe thead th {\n",
       "        text-align: right;\n",
       "    }\n",
       "</style>\n",
       "<table border=\"1\" class=\"dataframe\">\n",
       "  <thead>\n",
       "    <tr style=\"text-align: right;\">\n",
       "      <th></th>\n",
       "      <th>Precision@5</th>\n",
       "    </tr>\n",
       "  </thead>\n",
       "  <tbody>\n",
       "    <tr>\n",
       "      <th>tuned_HNSW</th>\n",
       "      <td>0.9984</td>\n",
       "    </tr>\n",
       "    <tr>\n",
       "      <th>Default_HNSW</th>\n",
       "      <td>0.8352</td>\n",
       "    </tr>\n",
       "    <tr>\n",
       "      <th>LSH_normed_better</th>\n",
       "      <td>0.1946</td>\n",
       "    </tr>\n",
       "    <tr>\n",
       "      <th>LSH_normed</th>\n",
       "      <td>0.1025</td>\n",
       "    </tr>\n",
       "  </tbody>\n",
       "</table>\n",
       "</div>"
      ],
      "text/plain": [
       "                   Precision@5\n",
       "tuned_HNSW              0.9984\n",
       "Default_HNSW            0.8352\n",
       "LSH_normed_better       0.1946\n",
       "LSH_normed              0.1025"
      ]
     },
     "execution_count": 82,
     "metadata": {},
     "output_type": "execute_result"
    }
   ],
   "source": [
    "metrics_filter_seen.add_result(\"LSH_normed_better\", brp_pred_filtered)\n",
    "metrics_filter_seen.results.sort_values('Precision@5', ascending=False)"
   ]
  }
 ],
 "metadata": {
  "kernelspec": {
   "display_name": "Python 3 (ipykernel)",
   "language": "python",
   "name": "python3"
  },
  "language_info": {
   "codemirror_mode": {
    "name": "ipython",
    "version": 3
   },
   "file_extension": ".py",
   "mimetype": "text/x-python",
   "name": "python",
   "nbconvert_exporter": "python",
   "pygments_lexer": "ipython3",
   "version": "3.9.7"
  },
  "name": "movielens_nmf.ipynb",
  "pycharm": {
   "stem_cell": {
    "cell_type": "raw",
    "source": [
     "null"
    ],
    "metadata": {
     "collapsed": false
    }
   }
  }
 },
 "nbformat": 4,
 "nbformat_minor": 4
}