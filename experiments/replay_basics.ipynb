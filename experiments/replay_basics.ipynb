{
 "cells": [
  {
   "cell_type": "markdown",
   "metadata": {},
   "source": [
    "# RePlay Tutorial\n",
    "This notebook is designed to familiarize with the use of RePlay library, including \n",
    "- data preprocessing\n",
    "- data splitting\n",
    "- model training and inference\n",
    "- model optimization\n",
    "- models comparison"
   ]
  },
  {
   "cell_type": "code",
   "execution_count": 29,
   "metadata": {
    "ExecuteTime": {
     "end_time": "2020-02-10T16:01:45.639135Z",
     "start_time": "2020-02-10T16:01:45.612577Z"
    },
    "jupyter": {
     "outputs_hidden": false
    },
    "pycharm": {
     "is_executing": false
    }
   },
   "outputs": [
    {
     "name": "stdout",
     "output_type": "stream",
     "text": [
      "The autoreload extension is already loaded. To reload it, use:\n",
      "  %reload_ext autoreload\n"
     ]
    }
   ],
   "source": [
    "%load_ext autoreload\n",
    "%autoreload 2"
   ]
  },
  {
   "cell_type": "code",
   "execution_count": 30,
   "metadata": {},
   "outputs": [],
   "source": [
    "%config Completer.use_jedi = False"
   ]
  },
  {
   "cell_type": "markdown",
   "metadata": {},
   "source": [
    "`State` object allows passing existing Spark session or create a new one, which will be used by the all RePlay modules.\n",
    "\n",
    "To create session with custom parameters ``spark.driver.memory`` and ``spark.sql.shuffle.partitions`` use function `get_spark_session` from `session_handler` module."
   ]
  },
  {
   "cell_type": "code",
   "execution_count": 31,
   "metadata": {
    "ExecuteTime": {
     "end_time": "2020-02-10T15:59:09.227179Z",
     "start_time": "2020-02-10T15:59:06.427348Z"
    },
    "jupyter": {
     "outputs_hidden": false
    },
    "pycharm": {
     "is_executing": false
    }
   },
   "outputs": [
    {
     "data": {
      "text/html": [
       "\n",
       "            <div>\n",
       "                <p><b>SparkSession - hive</b></p>\n",
       "                \n",
       "        <div>\n",
       "            <p><b>SparkContext</b></p>\n",
       "\n",
       "            <p><a href=\"http://localhost:4040\">Spark UI</a></p>\n",
       "\n",
       "            <dl>\n",
       "              <dt>Version</dt>\n",
       "                <dd><code>v3.0.1</code></dd>\n",
       "              <dt>Master</dt>\n",
       "                <dd><code>local[*]</code></dd>\n",
       "              <dt>AppName</dt>\n",
       "                <dd><code>pyspark-shell</code></dd>\n",
       "            </dl>\n",
       "        </div>\n",
       "        \n",
       "            </div>\n",
       "        "
      ],
      "text/plain": [
       "<pyspark.sql.session.SparkSession at 0x7f007d97a650>"
      ]
     },
     "execution_count": 31,
     "metadata": {},
     "output_type": "execute_result"
    }
   ],
   "source": [
    "from replay.session_handler import State\n",
    "\n",
    "spark = State().session\n",
    "spark"
   ]
  },
  {
   "cell_type": "code",
   "execution_count": 32,
   "metadata": {},
   "outputs": [],
   "source": [
    "K = 5\n",
    "SEED=1234"
   ]
  },
  {
   "cell_type": "markdown",
   "metadata": {},
   "source": [
    "## 0. Data preprocessing <a name='data-preparator'></a>\n",
    "We will use MovieLens 1m as an example."
   ]
  },
  {
   "cell_type": "code",
   "execution_count": 33,
   "metadata": {
    "ExecuteTime": {
     "end_time": "2020-02-10T15:59:42.041251Z",
     "start_time": "2020-02-10T15:59:09.230636Z"
    },
    "jupyter": {
     "outputs_hidden": false
    },
    "scrolled": true
   },
   "outputs": [],
   "source": [
    "import pandas as pd\n",
    "df = pd.read_csv(\"data/ml1m_ratings.dat\", sep=\"\\t\", names=[\"user_id\", \"item_id\", \"relevance\", \"timestamp\"])\n",
    "users = pd.read_csv(\"data/ml1m_users.dat\", sep=\"\\t\", names=[\"user_id\", \"gender\", \"age\", \"occupation\", \"zip_code\"])"
   ]
  },
  {
   "cell_type": "markdown",
   "metadata": {},
   "source": [
    "### 0.1. DataPreparator"
   ]
  },
  {
   "cell_type": "markdown",
   "metadata": {},
   "source": [
    "An inner data format in RePlay is a spark dataframe.\n",
    "You can pass spark or pandas dataframe as an input. Columns ``item_id`` and ``user_id`` are required for interaction matrix.\n",
    "Optional columns for interaction matrix are ``relevance`` and interaction ``timestamp``. \n",
    "\n",
    "We implemented DataPreparator class to convert dataframes to spark format and preprocess the data, including renaming/creation of required and optional interaction matrix columns, null check and dates parsing.\n",
    "\n",
    "To convert pandas dataframe to spark as is use function ``convert_to_spark`` from ``replay.utils``."
   ]
  },
  {
   "cell_type": "code",
   "execution_count": 34,
   "metadata": {
    "jupyter": {
     "outputs_hidden": false
    }
   },
   "outputs": [],
   "source": [
    "from replay.data_preparator import DataPreparator\n",
    "\n",
    "log = DataPreparator().transform(\n",
    "    data=df,\n",
    "    columns_names={\n",
    "        \"user_id\": \"user_id\",\n",
    "        \"item_id\": \"item_id\",\n",
    "        \"relevance\": \"relevance\",\n",
    "        \"timestamp\": \"timestamp\"\n",
    "    }\n",
    ")"
   ]
  },
  {
   "cell_type": "code",
   "execution_count": 35,
   "metadata": {},
   "outputs": [
    {
     "name": "stdout",
     "output_type": "stream",
     "text": [
      "+-------+-------+---------+-------------------+\n",
      "|user_id|item_id|relevance|          timestamp|\n",
      "+-------+-------+---------+-------------------+\n",
      "|      1|   1193|      5.0|2000-12-31 22:12:40|\n",
      "|      1|    661|      3.0|2000-12-31 22:35:09|\n",
      "|      1|    914|      3.0|2000-12-31 22:32:48|\n",
      "+-------+-------+---------+-------------------+\n",
      "only showing top 3 rows\n",
      "\n"
     ]
    }
   ],
   "source": [
    "log.show(3)"
   ]
  },
  {
   "cell_type": "code",
   "execution_count": 36,
   "metadata": {},
   "outputs": [],
   "source": [
    "from replay.utils import convert2spark\n",
    "users = convert2spark(users)"
   ]
  },
  {
   "cell_type": "markdown",
   "metadata": {},
   "source": [
    "### 0.2. Split"
   ]
  },
  {
   "cell_type": "markdown",
   "metadata": {},
   "source": [
    "RePlay provides you with data splitters to reproduce a validation schemas widely-used in recommender systems.\n",
    "\n",
    "`UserSplitter` takes ``item_test_size`` items for each user to the test dataset."
   ]
  },
  {
   "cell_type": "code",
   "execution_count": 37,
   "metadata": {
    "ExecuteTime": {
     "end_time": "2020-02-10T15:59:50.986401Z",
     "start_time": "2020-02-10T15:59:42.042998Z"
    },
    "jupyter": {
     "outputs_hidden": false
    }
   },
   "outputs": [
    {
     "data": {
      "text/plain": [
       "(997709, 2500)"
      ]
     },
     "execution_count": 37,
     "metadata": {},
     "output_type": "execute_result"
    }
   ],
   "source": [
    "from replay.splitters import UserSplitter\n",
    "\n",
    "splitter = UserSplitter(\n",
    "    drop_cold_items=True,\n",
    "    drop_cold_users=True,\n",
    "    item_test_size=K,\n",
    "    user_test_size=500,\n",
    "    seed=SEED,\n",
    "    shuffle=True\n",
    ")\n",
    "train, test = splitter.split(log)\n",
    "(\n",
    "    train.count(), \n",
    "    test.count()\n",
    ")"
   ]
  },
  {
   "cell_type": "markdown",
   "metadata": {},
   "source": [
    "## 1. Models training\n",
    "\n",
    "#### SLIM"
   ]
  },
  {
   "cell_type": "code",
   "execution_count": 48,
   "metadata": {},
   "outputs": [],
   "source": [
    "from replay.models import SLIM\n",
    "\n",
    "slim = SLIM(lambda_=0.01, beta=0.01, seed=SEED)"
   ]
  },
  {
   "cell_type": "code",
   "execution_count": 49,
   "metadata": {},
   "outputs": [
    {
     "name": "stderr",
     "output_type": "stream",
     "text": [
      "24-May-21 08:56:43, replay, DEBUG: Начало обучения SLIM\n",
      "DEBUG:replay:Начало обучения SLIM\n",
      "24-May-21 08:56:43, replay, DEBUG: Предварительная стадия обучения (pre-fit)\n",
      "DEBUG:replay:Предварительная стадия обучения (pre-fit)\n",
      "24-May-21 08:56:44, replay, DEBUG: Основная стадия обучения (fit)\n",
      "DEBUG:replay:Основная стадия обучения (fit)\n"
     ]
    },
    {
     "name": "stdout",
     "output_type": "stream",
     "text": [
      "CPU times: user 2.23 s, sys: 148 ms, total: 2.37 s\n",
      "Wall time: 4.5 s\n"
     ]
    }
   ],
   "source": [
    "%%time\n",
    "\n",
    "slim.fit(log=train)"
   ]
  },
  {
   "cell_type": "code",
   "execution_count": 50,
   "metadata": {},
   "outputs": [
    {
     "name": "stderr",
     "output_type": "stream",
     "text": [
      "24-May-21 08:56:48, replay, DEBUG: Начало предикта SLIM\n",
      "DEBUG:replay:Начало предикта SLIM\n"
     ]
    },
    {
     "name": "stdout",
     "output_type": "stream",
     "text": [
      "CPU times: user 728 ms, sys: 180 ms, total: 908 ms\n",
      "Wall time: 3.42 s\n"
     ]
    }
   ],
   "source": [
    "%%time\n",
    "\n",
    "recs = slim.predict(\n",
    "    k=K,\n",
    "    users=test.select('user_id').distinct(),\n",
    "    log=train,\n",
    "    filter_seen_items=True\n",
    ")"
   ]
  },
  {
   "cell_type": "markdown",
   "metadata": {},
   "source": [
    "## 2. Models evaluation"
   ]
  },
  {
   "cell_type": "markdown",
   "metadata": {},
   "source": [
    "RePlay implements some popular recommenders' quality metrics. Use pure metrics or calculate a set of chosen metrics and compare models with the ``Experiment`` class."
   ]
  },
  {
   "cell_type": "code",
   "execution_count": 51,
   "metadata": {
    "ExecuteTime": {
     "end_time": "2020-02-10T16:07:28.942205Z",
     "start_time": "2020-02-10T16:07:26.281475Z"
    },
    "jupyter": {
     "outputs_hidden": false
    }
   },
   "outputs": [],
   "source": [
    "from replay.metrics import HitRate, NDCG, MAP\n",
    "from replay.experiment import Experiment\n",
    "\n",
    "metrics = Experiment(test, {NDCG(): K,\n",
    "                            MAP() : K,\n",
    "                            HitRate(): [1, K]})\n"
   ]
  },
  {
   "cell_type": "code",
   "execution_count": 52,
   "metadata": {},
   "outputs": [
    {
     "name": "stdout",
     "output_type": "stream",
     "text": [
      "CPU times: user 64.8 ms, sys: 24.4 ms, total: 89.2 ms\n",
      "Wall time: 11.4 s\n"
     ]
    },
    {
     "data": {
      "text/html": [
       "<div>\n",
       "<style scoped>\n",
       "    .dataframe tbody tr th:only-of-type {\n",
       "        vertical-align: middle;\n",
       "    }\n",
       "\n",
       "    .dataframe tbody tr th {\n",
       "        vertical-align: top;\n",
       "    }\n",
       "\n",
       "    .dataframe thead th {\n",
       "        text-align: right;\n",
       "    }\n",
       "</style>\n",
       "<table border=\"1\" class=\"dataframe\">\n",
       "  <thead>\n",
       "    <tr style=\"text-align: right;\">\n",
       "      <th></th>\n",
       "      <th>HitRate@1</th>\n",
       "      <th>HitRate@5</th>\n",
       "      <th>MAP@5</th>\n",
       "      <th>NDCG@5</th>\n",
       "    </tr>\n",
       "  </thead>\n",
       "  <tbody>\n",
       "    <tr>\n",
       "      <th>SLIM</th>\n",
       "      <td>0.128</td>\n",
       "      <td>0.346</td>\n",
       "      <td>0.053353</td>\n",
       "      <td>0.096688</td>\n",
       "    </tr>\n",
       "  </tbody>\n",
       "</table>\n",
       "</div>"
      ],
      "text/plain": [
       "      HitRate@1  HitRate@5     MAP@5    NDCG@5\n",
       "SLIM      0.128      0.346  0.053353  0.096688"
      ]
     },
     "execution_count": 52,
     "metadata": {},
     "output_type": "execute_result"
    }
   ],
   "source": [
    "%%time\n",
    "metrics.add_result(\"SLIM\", recs)\n",
    "metrics.results"
   ]
  },
  {
   "cell_type": "markdown",
   "metadata": {},
   "source": [
    "## 3. Hyperparameters optimization"
   ]
  },
  {
   "cell_type": "code",
   "execution_count": 44,
   "metadata": {},
   "outputs": [],
   "source": [
    "# data split for hyperparameters optimization\n",
    "train_opt, val_opt = splitter.split(train)"
   ]
  },
  {
   "cell_type": "code",
   "execution_count": null,
   "metadata": {},
   "outputs": [],
   "source": [
    "best_params = slim.optimize(train_opt, val_opt, criterion=NDCG(), k=K, budget=10)"
   ]
  },
  {
   "cell_type": "code",
   "execution_count": 17,
   "metadata": {},
   "outputs": [
    {
     "data": {
      "text/plain": [
       "{'beta': 1.8656829517898104e-07, 'lambda_': 0.11039466478947813}"
      ]
     },
     "execution_count": 17,
     "metadata": {},
     "output_type": "execute_result"
    }
   ],
   "source": [
    "best_params"
   ]
  },
  {
   "cell_type": "code",
   "execution_count": 53,
   "metadata": {},
   "outputs": [
    {
     "name": "stderr",
     "output_type": "stream",
     "text": [
      "24-May-21 08:57:04, replay, DEBUG: Начало обучения SLIM\n",
      "DEBUG:replay:Начало обучения SLIM\n",
      "24-May-21 08:57:04, replay, DEBUG: Предварительная стадия обучения (pre-fit)\n",
      "DEBUG:replay:Предварительная стадия обучения (pre-fit)\n",
      "24-May-21 08:57:05, replay, DEBUG: Основная стадия обучения (fit)\n",
      "DEBUG:replay:Основная стадия обучения (fit)\n",
      "24-May-21 08:57:09, replay, DEBUG: Начало предикта SLIM\n",
      "DEBUG:replay:Начало предикта SLIM\n"
     ]
    },
    {
     "data": {
      "text/html": [
       "<div>\n",
       "<style scoped>\n",
       "    .dataframe tbody tr th:only-of-type {\n",
       "        vertical-align: middle;\n",
       "    }\n",
       "\n",
       "    .dataframe tbody tr th {\n",
       "        vertical-align: top;\n",
       "    }\n",
       "\n",
       "    .dataframe thead th {\n",
       "        text-align: right;\n",
       "    }\n",
       "</style>\n",
       "<table border=\"1\" class=\"dataframe\">\n",
       "  <thead>\n",
       "    <tr style=\"text-align: right;\">\n",
       "      <th></th>\n",
       "      <th>HitRate@1</th>\n",
       "      <th>HitRate@5</th>\n",
       "      <th>MAP@5</th>\n",
       "      <th>NDCG@5</th>\n",
       "    </tr>\n",
       "  </thead>\n",
       "  <tbody>\n",
       "    <tr>\n",
       "      <th>SLIM</th>\n",
       "      <td>0.128</td>\n",
       "      <td>0.346</td>\n",
       "      <td>0.053353</td>\n",
       "      <td>0.096688</td>\n",
       "    </tr>\n",
       "    <tr>\n",
       "      <th>SLIM_optimized</th>\n",
       "      <td>0.180</td>\n",
       "      <td>0.470</td>\n",
       "      <td>0.072093</td>\n",
       "      <td>0.130902</td>\n",
       "    </tr>\n",
       "  </tbody>\n",
       "</table>\n",
       "</div>"
      ],
      "text/plain": [
       "                HitRate@1  HitRate@5     MAP@5    NDCG@5\n",
       "SLIM                0.128      0.346  0.053353  0.096688\n",
       "SLIM_optimized      0.180      0.470  0.072093  0.130902"
      ]
     },
     "execution_count": 53,
     "metadata": {},
     "output_type": "execute_result"
    }
   ],
   "source": [
    "slim = SLIM(**best_params, seed=SEED)\n",
    "\n",
    "slim.fit(log=train)\n",
    "\n",
    "recs = slim.predict(\n",
    "    k=K,\n",
    "    users=test.select('user_id').distinct(),\n",
    "    log=train,\n",
    "    filter_seen_items=True\n",
    ")\n",
    "\n",
    "metrics.add_result(\"SLIM_optimized\", recs)\n",
    "metrics.results"
   ]
  },
  {
   "cell_type": "markdown",
   "metadata": {},
   "source": [
    "### Convert to pandas"
   ]
  },
  {
   "cell_type": "code",
   "execution_count": 54,
   "metadata": {},
   "outputs": [
    {
     "data": {
      "text/html": [
       "<div>\n",
       "<style scoped>\n",
       "    .dataframe tbody tr th:only-of-type {\n",
       "        vertical-align: middle;\n",
       "    }\n",
       "\n",
       "    .dataframe tbody tr th {\n",
       "        vertical-align: top;\n",
       "    }\n",
       "\n",
       "    .dataframe thead th {\n",
       "        text-align: right;\n",
       "    }\n",
       "</style>\n",
       "<table border=\"1\" class=\"dataframe\">\n",
       "  <thead>\n",
       "    <tr style=\"text-align: right;\">\n",
       "      <th></th>\n",
       "      <th>user_id</th>\n",
       "      <th>item_id</th>\n",
       "      <th>relevance</th>\n",
       "    </tr>\n",
       "  </thead>\n",
       "  <tbody>\n",
       "    <tr>\n",
       "      <th>0</th>\n",
       "      <td>1344</td>\n",
       "      <td>2918</td>\n",
       "      <td>0.747178</td>\n",
       "    </tr>\n",
       "    <tr>\n",
       "      <th>1</th>\n",
       "      <td>1344</td>\n",
       "      <td>595</td>\n",
       "      <td>0.695038</td>\n",
       "    </tr>\n",
       "    <tr>\n",
       "      <th>2</th>\n",
       "      <td>1344</td>\n",
       "      <td>1196</td>\n",
       "      <td>0.665159</td>\n",
       "    </tr>\n",
       "  </tbody>\n",
       "</table>\n",
       "</div>"
      ],
      "text/plain": [
       "  user_id item_id  relevance\n",
       "0    1344    2918   0.747178\n",
       "1    1344     595   0.695038\n",
       "2    1344    1196   0.665159"
      ]
     },
     "execution_count": 54,
     "metadata": {},
     "output_type": "execute_result"
    }
   ],
   "source": [
    "recs_pd = recs.toPandas()\n",
    "recs_pd.head(3)"
   ]
  },
  {
   "cell_type": "markdown",
   "metadata": {},
   "source": [
    "## 4. Other RePlay models"
   ]
  },
  {
   "cell_type": "markdown",
   "metadata": {},
   "source": [
    "#### ALS\n",
    "Commonly-used matrix factorization algorithm."
   ]
  },
  {
   "cell_type": "code",
   "execution_count": 55,
   "metadata": {
    "jupyter": {
     "outputs_hidden": false
    }
   },
   "outputs": [],
   "source": [
    "from replay.models import ALSWrap\n",
    "\n",
    "als = ALSWrap(rank=100, seed=SEED)"
   ]
  },
  {
   "cell_type": "code",
   "execution_count": 56,
   "metadata": {
    "jupyter": {
     "outputs_hidden": false
    }
   },
   "outputs": [
    {
     "name": "stderr",
     "output_type": "stream",
     "text": [
      "24-May-21 08:57:23, replay, DEBUG: Начало обучения ALSWrap\n",
      "DEBUG:replay:Начало обучения ALSWrap\n",
      "24-May-21 08:57:23, replay, DEBUG: Предварительная стадия обучения (pre-fit)\n",
      "DEBUG:replay:Предварительная стадия обучения (pre-fit)\n",
      "24-May-21 08:57:24, replay, DEBUG: Основная стадия обучения (fit)\n",
      "DEBUG:replay:Основная стадия обучения (fit)\n"
     ]
    },
    {
     "name": "stdout",
     "output_type": "stream",
     "text": [
      "CPU times: user 295 ms, sys: 9.81 ms, total: 305 ms\n",
      "Wall time: 18.3 s\n"
     ]
    }
   ],
   "source": [
    "%%time\n",
    "als.fit(log=train)"
   ]
  },
  {
   "cell_type": "code",
   "execution_count": 57,
   "metadata": {
    "jupyter": {
     "outputs_hidden": false
    }
   },
   "outputs": [
    {
     "name": "stderr",
     "output_type": "stream",
     "text": [
      "24-May-21 08:57:42, replay, DEBUG: Начало предикта ALSWrap\n",
      "DEBUG:replay:Начало предикта ALSWrap\n"
     ]
    },
    {
     "name": "stdout",
     "output_type": "stream",
     "text": [
      "CPU times: user 723 ms, sys: 153 ms, total: 876 ms\n",
      "Wall time: 3.11 s\n"
     ]
    }
   ],
   "source": [
    "%%time\n",
    "recs = als.predict(\n",
    "    k=K,\n",
    "    users=test.select('user_id').distinct(),\n",
    "    log=train,\n",
    "    filter_seen_items=True\n",
    ")"
   ]
  },
  {
   "cell_type": "code",
   "execution_count": 58,
   "metadata": {
    "jupyter": {
     "outputs_hidden": false
    }
   },
   "outputs": [
    {
     "name": "stdout",
     "output_type": "stream",
     "text": [
      "CPU times: user 41.7 ms, sys: 30.9 ms, total: 72.7 ms\n",
      "Wall time: 6.12 s\n"
     ]
    },
    {
     "data": {
      "text/html": [
       "<div>\n",
       "<style scoped>\n",
       "    .dataframe tbody tr th:only-of-type {\n",
       "        vertical-align: middle;\n",
       "    }\n",
       "\n",
       "    .dataframe tbody tr th {\n",
       "        vertical-align: top;\n",
       "    }\n",
       "\n",
       "    .dataframe thead th {\n",
       "        text-align: right;\n",
       "    }\n",
       "</style>\n",
       "<table border=\"1\" class=\"dataframe\">\n",
       "  <thead>\n",
       "    <tr style=\"text-align: right;\">\n",
       "      <th></th>\n",
       "      <th>HitRate@1</th>\n",
       "      <th>HitRate@5</th>\n",
       "      <th>MAP@5</th>\n",
       "      <th>NDCG@5</th>\n",
       "    </tr>\n",
       "  </thead>\n",
       "  <tbody>\n",
       "    <tr>\n",
       "      <th>SLIM</th>\n",
       "      <td>0.128</td>\n",
       "      <td>0.346</td>\n",
       "      <td>0.053353</td>\n",
       "      <td>0.096688</td>\n",
       "    </tr>\n",
       "    <tr>\n",
       "      <th>SLIM_optimized</th>\n",
       "      <td>0.180</td>\n",
       "      <td>0.470</td>\n",
       "      <td>0.072093</td>\n",
       "      <td>0.130902</td>\n",
       "    </tr>\n",
       "    <tr>\n",
       "      <th>ALS</th>\n",
       "      <td>0.236</td>\n",
       "      <td>0.542</td>\n",
       "      <td>0.092333</td>\n",
       "      <td>0.163345</td>\n",
       "    </tr>\n",
       "  </tbody>\n",
       "</table>\n",
       "</div>"
      ],
      "text/plain": [
       "                HitRate@1  HitRate@5     MAP@5    NDCG@5\n",
       "SLIM                0.128      0.346  0.053353  0.096688\n",
       "SLIM_optimized      0.180      0.470  0.072093  0.130902\n",
       "ALS                 0.236      0.542  0.092333  0.163345"
      ]
     },
     "execution_count": 58,
     "metadata": {},
     "output_type": "execute_result"
    }
   ],
   "source": [
    "%%time\n",
    "metrics.add_result(\"ALS\", recs)\n",
    "metrics.results"
   ]
  },
  {
   "cell_type": "markdown",
   "metadata": {},
   "source": [
    "#### MultVAE \n",
    "Variational autoencoder for a recommendation task"
   ]
  },
  {
   "cell_type": "code",
   "execution_count": 59,
   "metadata": {
    "ExecuteTime": {
     "end_time": "2020-02-10T15:59:51.024567Z",
     "start_time": "2020-02-10T15:59:50.988776Z"
    }
   },
   "outputs": [],
   "source": [
    "from replay.models import MultVAE\n",
    "\n",
    "multvae = MultVAE(epochs=100)"
   ]
  },
  {
   "cell_type": "code",
   "execution_count": 60,
   "metadata": {
    "ExecuteTime": {
     "end_time": "2020-02-10T16:06:06.306042Z",
     "start_time": "2020-02-10T16:01:52.107394Z"
    },
    "jupyter": {
     "outputs_hidden": false
    }
   },
   "outputs": [
    {
     "name": "stderr",
     "output_type": "stream",
     "text": [
      "24-May-21 08:57:51, replay, DEBUG: Начало обучения MultVAE\n",
      "DEBUG:replay:Начало обучения MultVAE\n",
      "24-May-21 08:57:51, replay, DEBUG: Предварительная стадия обучения (pre-fit)\n",
      "DEBUG:replay:Предварительная стадия обучения (pre-fit)\n",
      "24-May-21 08:57:51, replay, DEBUG: Основная стадия обучения (fit)\n",
      "DEBUG:replay:Основная стадия обучения (fit)\n",
      "24-May-21 08:57:53, replay, DEBUG: Составление батча:\n",
      "DEBUG:replay:Составление батча:\n",
      "24-May-21 08:57:54, replay, DEBUG: Обучение модели\n",
      "DEBUG:replay:Обучение модели\n",
      "24-May-21 08:57:54, replay, DEBUG: Epoch[1] current loss: 1351.10847\n",
      "DEBUG:replay:Epoch[1] current loss: 1351.10847\n",
      "24-May-21 08:57:54, replay, DEBUG: Epoch[1] validation average loss: 1475.69263\n",
      "DEBUG:replay:Epoch[1] validation average loss: 1475.69263\n",
      "24-May-21 08:57:55, replay, DEBUG: Epoch[2] current loss: 1245.90040\n",
      "DEBUG:replay:Epoch[2] current loss: 1245.90040\n",
      "24-May-21 08:57:55, replay, DEBUG: Epoch[2] validation average loss: 1475.77625\n",
      "DEBUG:replay:Epoch[2] validation average loss: 1475.77625\n",
      "24-May-21 08:57:55, replay, DEBUG: Epoch[3] current loss: 1260.68469\n",
      "DEBUG:replay:Epoch[3] current loss: 1260.68469\n",
      "24-May-21 08:57:56, replay, DEBUG: Epoch[3] validation average loss: 1440.05615\n",
      "DEBUG:replay:Epoch[3] validation average loss: 1440.05615\n",
      "24-May-21 08:57:56, replay, DEBUG: Epoch[4] current loss: 1245.79752\n",
      "DEBUG:replay:Epoch[4] current loss: 1245.79752\n",
      "24-May-21 08:57:56, replay, DEBUG: Epoch[4] validation average loss: 1418.23059\n",
      "DEBUG:replay:Epoch[4] validation average loss: 1418.23059\n",
      "24-May-21 08:57:57, replay, DEBUG: Epoch[5] current loss: 1239.64895\n",
      "DEBUG:replay:Epoch[5] current loss: 1239.64895\n",
      "24-May-21 08:57:57, replay, DEBUG: Epoch[5] validation average loss: 1396.45532\n",
      "DEBUG:replay:Epoch[5] validation average loss: 1396.45532\n",
      "24-May-21 08:57:57, replay, DEBUG: Epoch[6] current loss: 1231.07671\n",
      "DEBUG:replay:Epoch[6] current loss: 1231.07671\n",
      "24-May-21 08:57:57, replay, DEBUG: Epoch[6] validation average loss: 1410.12000\n",
      "DEBUG:replay:Epoch[6] validation average loss: 1410.12000\n",
      "24-May-21 08:57:58, replay, DEBUG: Epoch[7] current loss: 1225.18320\n",
      "DEBUG:replay:Epoch[7] current loss: 1225.18320\n",
      "24-May-21 08:57:58, replay, DEBUG: Epoch[7] validation average loss: 1421.74780\n",
      "DEBUG:replay:Epoch[7] validation average loss: 1421.74780\n",
      "24-May-21 08:57:58, replay, DEBUG: Epoch[8] current loss: 1226.71725\n",
      "DEBUG:replay:Epoch[8] current loss: 1226.71725\n",
      "24-May-21 08:57:59, replay, DEBUG: Epoch[8] validation average loss: 1429.99097\n",
      "DEBUG:replay:Epoch[8] validation average loss: 1429.99097\n",
      "24-May-21 08:57:59, replay, DEBUG: Epoch[9] current loss: 1226.15990\n",
      "DEBUG:replay:Epoch[9] current loss: 1226.15990\n",
      "24-May-21 08:57:59, replay, DEBUG: Epoch[9] validation average loss: 1396.99756\n",
      "DEBUG:replay:Epoch[9] validation average loss: 1396.99756\n",
      "24-May-21 08:58:00, replay, DEBUG: Epoch[10] current loss: 1213.56449\n",
      "DEBUG:replay:Epoch[10] current loss: 1213.56449\n",
      "24-May-21 08:58:00, replay, DEBUG: Epoch[10] validation average loss: 1414.89990\n",
      "DEBUG:replay:Epoch[10] validation average loss: 1414.89990\n",
      "24-May-21 08:58:00, replay, DEBUG: Epoch[11] current loss: 1221.51644\n",
      "DEBUG:replay:Epoch[11] current loss: 1221.51644\n",
      "24-May-21 08:58:00, replay, DEBUG: Epoch[11] validation average loss: 1413.71301\n",
      "DEBUG:replay:Epoch[11] validation average loss: 1413.71301\n",
      "24-May-21 08:58:01, replay, DEBUG: Epoch[12] current loss: 1218.76316\n",
      "DEBUG:replay:Epoch[12] current loss: 1218.76316\n",
      "24-May-21 08:58:01, replay, DEBUG: Epoch[12] validation average loss: 1405.25745\n",
      "DEBUG:replay:Epoch[12] validation average loss: 1405.25745\n",
      "24-May-21 08:58:01, replay, DEBUG: Epoch[13] current loss: 1208.18191\n",
      "DEBUG:replay:Epoch[13] current loss: 1208.18191\n",
      "24-May-21 08:58:01, replay, DEBUG: Epoch[13] validation average loss: 1401.85376\n",
      "DEBUG:replay:Epoch[13] validation average loss: 1401.85376\n",
      "24-May-21 08:58:02, replay, DEBUG: Epoch[14] current loss: 1209.77763\n",
      "DEBUG:replay:Epoch[14] current loss: 1209.77763\n",
      "24-May-21 08:58:02, replay, DEBUG: Epoch[14] validation average loss: 1394.15039\n",
      "DEBUG:replay:Epoch[14] validation average loss: 1394.15039\n",
      "24-May-21 08:58:03, replay, DEBUG: Epoch[15] current loss: 1209.69001\n",
      "DEBUG:replay:Epoch[15] current loss: 1209.69001\n",
      "24-May-21 08:58:03, replay, DEBUG: Epoch[15] validation average loss: 1389.60388\n",
      "DEBUG:replay:Epoch[15] validation average loss: 1389.60388\n",
      "24-May-21 08:58:03, replay, DEBUG: Epoch[16] current loss: 1205.32107\n",
      "DEBUG:replay:Epoch[16] current loss: 1205.32107\n",
      "24-May-21 08:58:03, replay, DEBUG: Epoch[16] validation average loss: 1388.28271\n",
      "DEBUG:replay:Epoch[16] validation average loss: 1388.28271\n",
      "24-May-21 08:58:04, replay, DEBUG: Epoch[17] current loss: 1202.25300\n",
      "DEBUG:replay:Epoch[17] current loss: 1202.25300\n",
      "24-May-21 08:58:04, replay, DEBUG: Epoch[17] validation average loss: 1383.87671\n",
      "DEBUG:replay:Epoch[17] validation average loss: 1383.87671\n",
      "24-May-21 08:58:04, replay, DEBUG: Epoch[18] current loss: 1202.77686\n",
      "DEBUG:replay:Epoch[18] current loss: 1202.77686\n",
      "24-May-21 08:58:04, replay, DEBUG: Epoch[18] validation average loss: 1376.94897\n",
      "DEBUG:replay:Epoch[18] validation average loss: 1376.94897\n",
      "24-May-21 08:58:05, replay, DEBUG: Epoch[19] current loss: 1203.44889\n",
      "DEBUG:replay:Epoch[19] current loss: 1203.44889\n",
      "24-May-21 08:58:05, replay, DEBUG: Epoch[19] validation average loss: 1370.58801\n",
      "DEBUG:replay:Epoch[19] validation average loss: 1370.58801\n",
      "24-May-21 08:58:05, replay, DEBUG: Epoch[20] current loss: 1204.85610\n",
      "DEBUG:replay:Epoch[20] current loss: 1204.85610\n",
      "24-May-21 08:58:05, replay, DEBUG: Epoch[20] validation average loss: 1367.02673\n",
      "DEBUG:replay:Epoch[20] validation average loss: 1367.02673\n",
      "24-May-21 08:58:06, replay, DEBUG: Epoch[21] current loss: 1207.03658\n",
      "DEBUG:replay:Epoch[21] current loss: 1207.03658\n",
      "24-May-21 08:58:06, replay, DEBUG: Epoch[21] validation average loss: 1362.89062\n",
      "DEBUG:replay:Epoch[21] validation average loss: 1362.89062\n",
      "24-May-21 08:58:07, replay, DEBUG: Epoch[22] current loss: 1197.89101\n",
      "DEBUG:replay:Epoch[22] current loss: 1197.89101\n",
      "24-May-21 08:58:07, replay, DEBUG: Epoch[22] validation average loss: 1356.71729\n",
      "DEBUG:replay:Epoch[22] validation average loss: 1356.71729\n",
      "24-May-21 08:58:07, replay, DEBUG: Epoch[23] current loss: 1195.00614\n",
      "DEBUG:replay:Epoch[23] current loss: 1195.00614\n",
      "24-May-21 08:58:07, replay, DEBUG: Epoch[23] validation average loss: 1353.51575\n",
      "DEBUG:replay:Epoch[23] validation average loss: 1353.51575\n",
      "24-May-21 08:58:08, replay, DEBUG: Epoch[24] current loss: 1196.99645\n",
      "DEBUG:replay:Epoch[24] current loss: 1196.99645\n",
      "24-May-21 08:58:08, replay, DEBUG: Epoch[24] validation average loss: 1349.84241\n",
      "DEBUG:replay:Epoch[24] validation average loss: 1349.84241\n",
      "24-May-21 08:58:08, replay, DEBUG: Epoch[25] current loss: 1193.16373\n",
      "DEBUG:replay:Epoch[25] current loss: 1193.16373\n",
      "24-May-21 08:58:08, replay, DEBUG: Epoch[25] validation average loss: 1342.94238\n",
      "DEBUG:replay:Epoch[25] validation average loss: 1342.94238\n",
      "24-May-21 08:58:09, replay, DEBUG: Epoch[26] current loss: 1187.06878\n",
      "DEBUG:replay:Epoch[26] current loss: 1187.06878\n",
      "24-May-21 08:58:09, replay, DEBUG: Epoch[26] validation average loss: 1337.43237\n",
      "DEBUG:replay:Epoch[26] validation average loss: 1337.43237\n",
      "24-May-21 08:58:09, replay, DEBUG: Epoch[27] current loss: 1189.39343\n",
      "DEBUG:replay:Epoch[27] current loss: 1189.39343\n",
      "24-May-21 08:58:09, replay, DEBUG: Epoch[27] validation average loss: 1333.73718\n",
      "DEBUG:replay:Epoch[27] validation average loss: 1333.73718\n",
      "24-May-21 08:58:10, replay, DEBUG: Epoch[28] current loss: 1185.57741\n",
      "DEBUG:replay:Epoch[28] current loss: 1185.57741\n",
      "24-May-21 08:58:10, replay, DEBUG: Epoch[28] validation average loss: 1330.04248\n",
      "DEBUG:replay:Epoch[28] validation average loss: 1330.04248\n",
      "24-May-21 08:58:11, replay, DEBUG: Epoch[29] current loss: 1180.58330\n",
      "DEBUG:replay:Epoch[29] current loss: 1180.58330\n",
      "24-May-21 08:58:11, replay, DEBUG: Epoch[29] validation average loss: 1326.78528\n",
      "DEBUG:replay:Epoch[29] validation average loss: 1326.78528\n",
      "24-May-21 08:58:11, replay, DEBUG: Epoch[30] current loss: 1180.94168\n",
      "DEBUG:replay:Epoch[30] current loss: 1180.94168\n",
      "24-May-21 08:58:11, replay, DEBUG: Epoch[30] validation average loss: 1323.07043\n",
      "DEBUG:replay:Epoch[30] validation average loss: 1323.07043\n"
     ]
    },
    {
     "name": "stderr",
     "output_type": "stream",
     "text": [
      "24-May-21 08:58:12, replay, DEBUG: Epoch[31] current loss: 1180.80163\n",
      "DEBUG:replay:Epoch[31] current loss: 1180.80163\n",
      "24-May-21 08:58:12, replay, DEBUG: Epoch[31] validation average loss: 1322.21924\n",
      "DEBUG:replay:Epoch[31] validation average loss: 1322.21924\n",
      "24-May-21 08:58:12, replay, DEBUG: Epoch[32] current loss: 1174.51145\n",
      "DEBUG:replay:Epoch[32] current loss: 1174.51145\n",
      "24-May-21 08:58:12, replay, DEBUG: Epoch[32] validation average loss: 1320.87622\n",
      "DEBUG:replay:Epoch[32] validation average loss: 1320.87622\n",
      "24-May-21 08:58:13, replay, DEBUG: Epoch[33] current loss: 1177.81200\n",
      "DEBUG:replay:Epoch[33] current loss: 1177.81200\n",
      "24-May-21 08:58:13, replay, DEBUG: Epoch[33] validation average loss: 1317.95276\n",
      "DEBUG:replay:Epoch[33] validation average loss: 1317.95276\n",
      "24-May-21 08:58:13, replay, DEBUG: Epoch[34] current loss: 1174.42239\n",
      "DEBUG:replay:Epoch[34] current loss: 1174.42239\n",
      "24-May-21 08:58:14, replay, DEBUG: Epoch[34] validation average loss: 1316.22388\n",
      "DEBUG:replay:Epoch[34] validation average loss: 1316.22388\n",
      "24-May-21 08:58:14, replay, DEBUG: Epoch[35] current loss: 1181.85053\n",
      "DEBUG:replay:Epoch[35] current loss: 1181.85053\n",
      "24-May-21 08:58:14, replay, DEBUG: Epoch[35] validation average loss: 1314.71155\n",
      "DEBUG:replay:Epoch[35] validation average loss: 1314.71155\n",
      "24-May-21 08:58:15, replay, DEBUG: Epoch[36] current loss: 1164.85123\n",
      "DEBUG:replay:Epoch[36] current loss: 1164.85123\n",
      "24-May-21 08:58:15, replay, DEBUG: Epoch[36] validation average loss: 1311.80554\n",
      "DEBUG:replay:Epoch[36] validation average loss: 1311.80554\n",
      "24-May-21 08:58:15, replay, DEBUG: Epoch[37] current loss: 1174.82686\n",
      "DEBUG:replay:Epoch[37] current loss: 1174.82686\n",
      "24-May-21 08:58:15, replay, DEBUG: Epoch[37] validation average loss: 1307.80762\n",
      "DEBUG:replay:Epoch[37] validation average loss: 1307.80762\n",
      "24-May-21 08:58:16, replay, DEBUG: Epoch[38] current loss: 1172.15947\n",
      "DEBUG:replay:Epoch[38] current loss: 1172.15947\n",
      "24-May-21 08:58:16, replay, DEBUG: Epoch[38] validation average loss: 1305.77637\n",
      "DEBUG:replay:Epoch[38] validation average loss: 1305.77637\n",
      "24-May-21 08:58:16, replay, DEBUG: Epoch[39] current loss: 1172.23511\n",
      "DEBUG:replay:Epoch[39] current loss: 1172.23511\n",
      "24-May-21 08:58:16, replay, DEBUG: Epoch[39] validation average loss: 1304.52881\n",
      "DEBUG:replay:Epoch[39] validation average loss: 1304.52881\n",
      "24-May-21 08:58:17, replay, DEBUG: Epoch[40] current loss: 1169.17021\n",
      "DEBUG:replay:Epoch[40] current loss: 1169.17021\n",
      "24-May-21 08:58:17, replay, DEBUG: Epoch[40] validation average loss: 1301.50867\n",
      "DEBUG:replay:Epoch[40] validation average loss: 1301.50867\n",
      "24-May-21 08:58:17, replay, DEBUG: Epoch[41] current loss: 1167.24031\n",
      "DEBUG:replay:Epoch[41] current loss: 1167.24031\n",
      "24-May-21 08:58:18, replay, DEBUG: Epoch[41] validation average loss: 1299.63989\n",
      "DEBUG:replay:Epoch[41] validation average loss: 1299.63989\n",
      "24-May-21 08:58:18, replay, DEBUG: Epoch[42] current loss: 1163.31688\n",
      "DEBUG:replay:Epoch[42] current loss: 1163.31688\n",
      "24-May-21 08:58:18, replay, DEBUG: Epoch[42] validation average loss: 1299.70496\n",
      "DEBUG:replay:Epoch[42] validation average loss: 1299.70496\n",
      "24-May-21 08:58:19, replay, DEBUG: Epoch[43] current loss: 1163.79388\n",
      "DEBUG:replay:Epoch[43] current loss: 1163.79388\n",
      "24-May-21 08:58:19, replay, DEBUG: Epoch[43] validation average loss: 1298.21521\n",
      "DEBUG:replay:Epoch[43] validation average loss: 1298.21521\n",
      "24-May-21 08:58:19, replay, DEBUG: Epoch[44] current loss: 1168.89350\n",
      "DEBUG:replay:Epoch[44] current loss: 1168.89350\n",
      "24-May-21 08:58:19, replay, DEBUG: Epoch[44] validation average loss: 1295.86523\n",
      "DEBUG:replay:Epoch[44] validation average loss: 1295.86523\n",
      "24-May-21 08:58:20, replay, DEBUG: Epoch[45] current loss: 1166.66144\n",
      "DEBUG:replay:Epoch[45] current loss: 1166.66144\n",
      "24-May-21 08:58:20, replay, DEBUG: Epoch[45] validation average loss: 1296.61633\n",
      "DEBUG:replay:Epoch[45] validation average loss: 1296.61633\n",
      "24-May-21 08:58:20, replay, DEBUG: Epoch[46] current loss: 1164.92059\n",
      "DEBUG:replay:Epoch[46] current loss: 1164.92059\n",
      "24-May-21 08:58:21, replay, DEBUG: Epoch[46] validation average loss: 1296.18640\n",
      "DEBUG:replay:Epoch[46] validation average loss: 1296.18640\n",
      "24-May-21 08:58:21, replay, DEBUG: Epoch[47] current loss: 1158.45069\n",
      "DEBUG:replay:Epoch[47] current loss: 1158.45069\n",
      "24-May-21 08:58:21, replay, DEBUG: Epoch[47] validation average loss: 1293.41077\n",
      "DEBUG:replay:Epoch[47] validation average loss: 1293.41077\n",
      "24-May-21 08:58:22, replay, DEBUG: Epoch[48] current loss: 1158.13271\n",
      "DEBUG:replay:Epoch[48] current loss: 1158.13271\n",
      "24-May-21 08:58:22, replay, DEBUG: Epoch[48] validation average loss: 1292.35425\n",
      "DEBUG:replay:Epoch[48] validation average loss: 1292.35425\n",
      "24-May-21 08:58:22, replay, DEBUG: Epoch[49] current loss: 1154.56034\n",
      "DEBUG:replay:Epoch[49] current loss: 1154.56034\n",
      "24-May-21 08:58:22, replay, DEBUG: Epoch[49] validation average loss: 1291.83691\n",
      "DEBUG:replay:Epoch[49] validation average loss: 1291.83691\n",
      "24-May-21 08:58:23, replay, DEBUG: Epoch[50] current loss: 1157.33211\n",
      "DEBUG:replay:Epoch[50] current loss: 1157.33211\n",
      "24-May-21 08:58:23, replay, DEBUG: Epoch[50] validation average loss: 1289.89038\n",
      "DEBUG:replay:Epoch[50] validation average loss: 1289.89038\n",
      "24-May-21 08:58:23, replay, DEBUG: Epoch[51] current loss: 1163.74813\n",
      "DEBUG:replay:Epoch[51] current loss: 1163.74813\n",
      "24-May-21 08:58:23, replay, DEBUG: Epoch[51] validation average loss: 1289.08240\n",
      "DEBUG:replay:Epoch[51] validation average loss: 1289.08240\n",
      "24-May-21 08:58:24, replay, DEBUG: Epoch[52] current loss: 1156.61850\n",
      "DEBUG:replay:Epoch[52] current loss: 1156.61850\n",
      "24-May-21 08:58:24, replay, DEBUG: Epoch[52] validation average loss: 1288.90771\n",
      "DEBUG:replay:Epoch[52] validation average loss: 1288.90771\n",
      "24-May-21 08:58:25, replay, DEBUG: Epoch[53] current loss: 1156.38321\n",
      "DEBUG:replay:Epoch[53] current loss: 1156.38321\n",
      "24-May-21 08:58:25, replay, DEBUG: Epoch[53] validation average loss: 1287.30713\n",
      "DEBUG:replay:Epoch[53] validation average loss: 1287.30713\n",
      "24-May-21 08:58:25, replay, DEBUG: Epoch[54] current loss: 1159.94851\n",
      "DEBUG:replay:Epoch[54] current loss: 1159.94851\n",
      "24-May-21 08:58:25, replay, DEBUG: Epoch[54] validation average loss: 1286.46863\n",
      "DEBUG:replay:Epoch[54] validation average loss: 1286.46863\n",
      "24-May-21 08:58:26, replay, DEBUG: Epoch[55] current loss: 1154.63728\n",
      "DEBUG:replay:Epoch[55] current loss: 1154.63728\n",
      "24-May-21 08:58:26, replay, DEBUG: Epoch[55] validation average loss: 1286.45398\n",
      "DEBUG:replay:Epoch[55] validation average loss: 1286.45398\n",
      "24-May-21 08:58:26, replay, DEBUG: Epoch[56] current loss: 1155.85432\n",
      "DEBUG:replay:Epoch[56] current loss: 1155.85432\n",
      "24-May-21 08:58:26, replay, DEBUG: Epoch[56] validation average loss: 1285.87476\n",
      "DEBUG:replay:Epoch[56] validation average loss: 1285.87476\n",
      "24-May-21 08:58:27, replay, DEBUG: Epoch[57] current loss: 1152.88654\n",
      "DEBUG:replay:Epoch[57] current loss: 1152.88654\n",
      "24-May-21 08:58:27, replay, DEBUG: Epoch[57] validation average loss: 1284.91223\n",
      "DEBUG:replay:Epoch[57] validation average loss: 1284.91223\n",
      "24-May-21 08:58:27, replay, DEBUG: Epoch[58] current loss: 1151.85207\n",
      "DEBUG:replay:Epoch[58] current loss: 1151.85207\n",
      "24-May-21 08:58:27, replay, DEBUG: Epoch[58] validation average loss: 1284.33350\n",
      "DEBUG:replay:Epoch[58] validation average loss: 1284.33350\n",
      "24-May-21 08:58:28, replay, DEBUG: Epoch[59] current loss: 1146.25774\n",
      "DEBUG:replay:Epoch[59] current loss: 1146.25774\n",
      "24-May-21 08:58:28, replay, DEBUG: Epoch[59] validation average loss: 1283.55981\n",
      "DEBUG:replay:Epoch[59] validation average loss: 1283.55981\n",
      "24-May-21 08:58:28, replay, DEBUG: Epoch[60] current loss: 1149.43085\n",
      "DEBUG:replay:Epoch[60] current loss: 1149.43085\n",
      "24-May-21 08:58:28, replay, DEBUG: Epoch[60] validation average loss: 1283.21973\n",
      "DEBUG:replay:Epoch[60] validation average loss: 1283.21973\n",
      "24-May-21 08:58:29, replay, DEBUG: Epoch[61] current loss: 1154.93671\n",
      "DEBUG:replay:Epoch[61] current loss: 1154.93671\n",
      "24-May-21 08:58:29, replay, DEBUG: Epoch[61] validation average loss: 1282.27905\n",
      "DEBUG:replay:Epoch[61] validation average loss: 1282.27905\n",
      "24-May-21 08:58:30, replay, DEBUG: Epoch[62] current loss: 1153.57549\n",
      "DEBUG:replay:Epoch[62] current loss: 1153.57549\n",
      "24-May-21 08:58:30, replay, DEBUG: Epoch[62] validation average loss: 1280.51172\n"
     ]
    },
    {
     "name": "stderr",
     "output_type": "stream",
     "text": [
      "DEBUG:replay:Epoch[62] validation average loss: 1280.51172\n",
      "24-May-21 08:58:30, replay, DEBUG: Epoch[63] current loss: 1150.26690\n",
      "DEBUG:replay:Epoch[63] current loss: 1150.26690\n",
      "24-May-21 08:58:30, replay, DEBUG: Epoch[63] validation average loss: 1281.41919\n",
      "DEBUG:replay:Epoch[63] validation average loss: 1281.41919\n",
      "24-May-21 08:58:31, replay, DEBUG: Epoch[64] current loss: 1149.68372\n",
      "DEBUG:replay:Epoch[64] current loss: 1149.68372\n",
      "24-May-21 08:58:31, replay, DEBUG: Epoch[64] validation average loss: 1279.96204\n",
      "DEBUG:replay:Epoch[64] validation average loss: 1279.96204\n",
      "24-May-21 08:58:31, replay, DEBUG: Epoch[65] current loss: 1147.41157\n",
      "DEBUG:replay:Epoch[65] current loss: 1147.41157\n",
      "24-May-21 08:58:32, replay, DEBUG: Epoch[65] validation average loss: 1278.59192\n",
      "DEBUG:replay:Epoch[65] validation average loss: 1278.59192\n",
      "24-May-21 08:58:32, replay, DEBUG: Epoch[66] current loss: 1147.76613\n",
      "DEBUG:replay:Epoch[66] current loss: 1147.76613\n",
      "24-May-21 08:58:32, replay, DEBUG: Epoch[66] validation average loss: 1280.07629\n",
      "DEBUG:replay:Epoch[66] validation average loss: 1280.07629\n",
      "24-May-21 08:58:33, replay, DEBUG: Epoch[67] current loss: 1152.67702\n",
      "DEBUG:replay:Epoch[67] current loss: 1152.67702\n",
      "24-May-21 08:58:33, replay, DEBUG: Epoch[67] validation average loss: 1278.18298\n",
      "DEBUG:replay:Epoch[67] validation average loss: 1278.18298\n",
      "24-May-21 08:58:33, replay, DEBUG: Epoch[68] current loss: 1143.94695\n",
      "DEBUG:replay:Epoch[68] current loss: 1143.94695\n",
      "24-May-21 08:58:33, replay, DEBUG: Epoch[68] validation average loss: 1277.33191\n",
      "DEBUG:replay:Epoch[68] validation average loss: 1277.33191\n",
      "24-May-21 08:58:34, replay, DEBUG: Epoch[69] current loss: 1144.16269\n",
      "DEBUG:replay:Epoch[69] current loss: 1144.16269\n",
      "24-May-21 08:58:34, replay, DEBUG: Epoch[69] validation average loss: 1278.38416\n",
      "DEBUG:replay:Epoch[69] validation average loss: 1278.38416\n",
      "24-May-21 08:58:34, replay, DEBUG: Epoch[70] current loss: 1137.39457\n",
      "DEBUG:replay:Epoch[70] current loss: 1137.39457\n",
      "24-May-21 08:58:34, replay, DEBUG: Epoch[70] validation average loss: 1276.41760\n",
      "DEBUG:replay:Epoch[70] validation average loss: 1276.41760\n",
      "24-May-21 08:58:35, replay, DEBUG: Epoch[71] current loss: 1145.70360\n",
      "DEBUG:replay:Epoch[71] current loss: 1145.70360\n",
      "24-May-21 08:58:35, replay, DEBUG: Epoch[71] validation average loss: 1276.27307\n",
      "DEBUG:replay:Epoch[71] validation average loss: 1276.27307\n",
      "24-May-21 08:58:35, replay, DEBUG: Epoch[72] current loss: 1137.77666\n",
      "DEBUG:replay:Epoch[72] current loss: 1137.77666\n",
      "24-May-21 08:58:36, replay, DEBUG: Epoch[72] validation average loss: 1276.89795\n",
      "DEBUG:replay:Epoch[72] validation average loss: 1276.89795\n",
      "24-May-21 08:58:36, replay, DEBUG: Epoch[73] current loss: 1135.18471\n",
      "DEBUG:replay:Epoch[73] current loss: 1135.18471\n",
      "24-May-21 08:58:36, replay, DEBUG: Epoch[73] validation average loss: 1275.60376\n",
      "DEBUG:replay:Epoch[73] validation average loss: 1275.60376\n",
      "24-May-21 08:58:37, replay, DEBUG: Epoch[74] current loss: 1141.66896\n",
      "DEBUG:replay:Epoch[74] current loss: 1141.66896\n",
      "24-May-21 08:58:37, replay, DEBUG: Epoch[74] validation average loss: 1274.45178\n",
      "DEBUG:replay:Epoch[74] validation average loss: 1274.45178\n",
      "24-May-21 08:58:37, replay, DEBUG: Epoch[75] current loss: 1141.20748\n",
      "DEBUG:replay:Epoch[75] current loss: 1141.20748\n",
      "24-May-21 08:58:37, replay, DEBUG: Epoch[75] validation average loss: 1275.56104\n",
      "DEBUG:replay:Epoch[75] validation average loss: 1275.56104\n",
      "24-May-21 08:58:38, replay, DEBUG: Epoch[76] current loss: 1146.07943\n",
      "DEBUG:replay:Epoch[76] current loss: 1146.07943\n",
      "24-May-21 08:58:38, replay, DEBUG: Epoch[76] validation average loss: 1274.63562\n",
      "DEBUG:replay:Epoch[76] validation average loss: 1274.63562\n",
      "24-May-21 08:58:38, replay, DEBUG: Epoch[77] current loss: 1140.93682\n",
      "DEBUG:replay:Epoch[77] current loss: 1140.93682\n",
      "24-May-21 08:58:38, replay, DEBUG: Epoch[77] validation average loss: 1272.89258\n",
      "DEBUG:replay:Epoch[77] validation average loss: 1272.89258\n",
      "24-May-21 08:58:39, replay, DEBUG: Epoch[78] current loss: 1139.99515\n",
      "DEBUG:replay:Epoch[78] current loss: 1139.99515\n",
      "24-May-21 08:58:39, replay, DEBUG: Epoch[78] validation average loss: 1274.18799\n",
      "DEBUG:replay:Epoch[78] validation average loss: 1274.18799\n",
      "24-May-21 08:58:39, replay, DEBUG: Epoch[79] current loss: 1140.71072\n",
      "DEBUG:replay:Epoch[79] current loss: 1140.71072\n",
      "24-May-21 08:58:40, replay, DEBUG: Epoch[79] validation average loss: 1273.61206\n",
      "DEBUG:replay:Epoch[79] validation average loss: 1273.61206\n",
      "24-May-21 08:58:40, replay, DEBUG: Epoch[80] current loss: 1138.83749\n",
      "DEBUG:replay:Epoch[80] current loss: 1138.83749\n",
      "24-May-21 08:58:40, replay, DEBUG: Epoch[80] validation average loss: 1272.58484\n",
      "DEBUG:replay:Epoch[80] validation average loss: 1272.58484\n",
      "24-May-21 08:58:41, replay, DEBUG: Epoch[81] current loss: 1144.15690\n",
      "DEBUG:replay:Epoch[81] current loss: 1144.15690\n",
      "24-May-21 08:58:41, replay, DEBUG: Epoch[81] validation average loss: 1273.04736\n",
      "DEBUG:replay:Epoch[81] validation average loss: 1273.04736\n",
      "24-May-21 08:58:41, replay, DEBUG: Epoch[82] current loss: 1140.05518\n",
      "DEBUG:replay:Epoch[82] current loss: 1140.05518\n",
      "24-May-21 08:58:41, replay, DEBUG: Epoch[82] validation average loss: 1272.38611\n",
      "DEBUG:replay:Epoch[82] validation average loss: 1272.38611\n",
      "24-May-21 08:58:42, replay, DEBUG: Epoch[83] current loss: 1132.73148\n",
      "DEBUG:replay:Epoch[83] current loss: 1132.73148\n",
      "24-May-21 08:58:42, replay, DEBUG: Epoch[83] validation average loss: 1271.78540\n",
      "DEBUG:replay:Epoch[83] validation average loss: 1271.78540\n",
      "24-May-21 08:58:42, replay, DEBUG: Epoch[84] current loss: 1144.58675\n",
      "DEBUG:replay:Epoch[84] current loss: 1144.58675\n",
      "24-May-21 08:58:42, replay, DEBUG: Epoch[84] validation average loss: 1271.82275\n",
      "DEBUG:replay:Epoch[84] validation average loss: 1271.82275\n",
      "24-May-21 08:58:43, replay, DEBUG: Epoch[85] current loss: 1137.46763\n",
      "DEBUG:replay:Epoch[85] current loss: 1137.46763\n",
      "24-May-21 08:58:43, replay, DEBUG: Epoch[85] validation average loss: 1271.57397\n",
      "DEBUG:replay:Epoch[85] validation average loss: 1271.57397\n",
      "24-May-21 08:58:43, replay, DEBUG: Epoch[86] current loss: 1129.31820\n",
      "DEBUG:replay:Epoch[86] current loss: 1129.31820\n",
      "24-May-21 08:58:44, replay, DEBUG: Epoch[86] validation average loss: 1270.91138\n",
      "DEBUG:replay:Epoch[86] validation average loss: 1270.91138\n",
      "24-May-21 08:58:44, replay, DEBUG: Epoch[87] current loss: 1145.14690\n",
      "DEBUG:replay:Epoch[87] current loss: 1145.14690\n",
      "24-May-21 08:58:44, replay, DEBUG: Epoch[87] validation average loss: 1270.51416\n",
      "DEBUG:replay:Epoch[87] validation average loss: 1270.51416\n",
      "24-May-21 08:58:45, replay, DEBUG: Epoch[88] current loss: 1141.21905\n",
      "DEBUG:replay:Epoch[88] current loss: 1141.21905\n",
      "24-May-21 08:58:45, replay, DEBUG: Epoch[88] validation average loss: 1270.38440\n",
      "DEBUG:replay:Epoch[88] validation average loss: 1270.38440\n",
      "24-May-21 08:58:45, replay, DEBUG: Epoch[89] current loss: 1138.09485\n",
      "DEBUG:replay:Epoch[89] current loss: 1138.09485\n",
      "24-May-21 08:58:45, replay, DEBUG: Epoch[89] validation average loss: 1269.93457\n",
      "DEBUG:replay:Epoch[89] validation average loss: 1269.93457\n",
      "24-May-21 08:58:46, replay, DEBUG: Epoch[90] current loss: 1139.84623\n",
      "DEBUG:replay:Epoch[90] current loss: 1139.84623\n",
      "24-May-21 08:58:46, replay, DEBUG: Epoch[90] validation average loss: 1269.90820\n",
      "DEBUG:replay:Epoch[90] validation average loss: 1269.90820\n",
      "24-May-21 08:58:46, replay, DEBUG: Epoch[91] current loss: 1141.01356\n",
      "DEBUG:replay:Epoch[91] current loss: 1141.01356\n",
      "24-May-21 08:58:46, replay, DEBUG: Epoch[91] validation average loss: 1269.53357\n",
      "DEBUG:replay:Epoch[91] validation average loss: 1269.53357\n",
      "24-May-21 08:58:47, replay, DEBUG: Epoch[92] current loss: 1146.19821\n",
      "DEBUG:replay:Epoch[92] current loss: 1146.19821\n",
      "24-May-21 08:58:47, replay, DEBUG: Epoch[92] validation average loss: 1269.32117\n",
      "DEBUG:replay:Epoch[92] validation average loss: 1269.32117\n",
      "24-May-21 08:58:47, replay, DEBUG: Epoch[93] current loss: 1132.82385\n",
      "DEBUG:replay:Epoch[93] current loss: 1132.82385\n",
      "24-May-21 08:58:48, replay, DEBUG: Epoch[93] validation average loss: 1269.31824\n",
      "DEBUG:replay:Epoch[93] validation average loss: 1269.31824\n",
      "24-May-21 08:58:48, replay, DEBUG: Epoch[94] current loss: 1136.67851\n",
      "DEBUG:replay:Epoch[94] current loss: 1136.67851\n",
      "24-May-21 08:58:48, replay, DEBUG: Epoch[94] validation average loss: 1268.73120\n"
     ]
    },
    {
     "name": "stderr",
     "output_type": "stream",
     "text": [
      "DEBUG:replay:Epoch[94] validation average loss: 1268.73120\n",
      "24-May-21 08:58:49, replay, DEBUG: Epoch[95] current loss: 1128.16562\n",
      "DEBUG:replay:Epoch[95] current loss: 1128.16562\n",
      "24-May-21 08:58:49, replay, DEBUG: Epoch[95] validation average loss: 1268.49170\n",
      "DEBUG:replay:Epoch[95] validation average loss: 1268.49170\n",
      "24-May-21 08:58:49, replay, DEBUG: Epoch[96] current loss: 1138.97953\n",
      "DEBUG:replay:Epoch[96] current loss: 1138.97953\n",
      "24-May-21 08:58:49, replay, DEBUG: Epoch[96] validation average loss: 1268.69019\n",
      "DEBUG:replay:Epoch[96] validation average loss: 1268.69019\n",
      "24-May-21 08:58:50, replay, DEBUG: Epoch[97] current loss: 1136.25470\n",
      "DEBUG:replay:Epoch[97] current loss: 1136.25470\n",
      "24-May-21 08:58:50, replay, DEBUG: Epoch[97] validation average loss: 1268.05981\n",
      "DEBUG:replay:Epoch[97] validation average loss: 1268.05981\n",
      "24-May-21 08:58:50, replay, DEBUG: Epoch[98] current loss: 1133.11271\n",
      "DEBUG:replay:Epoch[98] current loss: 1133.11271\n",
      "24-May-21 08:58:50, replay, DEBUG: Epoch[98] validation average loss: 1268.00745\n",
      "DEBUG:replay:Epoch[98] validation average loss: 1268.00745\n",
      "24-May-21 08:58:51, replay, DEBUG: Epoch[99] current loss: 1126.86894\n",
      "DEBUG:replay:Epoch[99] current loss: 1126.86894\n",
      "24-May-21 08:58:51, replay, DEBUG: Epoch[99] validation average loss: 1268.03931\n",
      "DEBUG:replay:Epoch[99] validation average loss: 1268.03931\n",
      "24-May-21 08:58:52, replay, DEBUG: Epoch[100] current loss: 1131.72680\n",
      "DEBUG:replay:Epoch[100] current loss: 1131.72680\n",
      "24-May-21 08:58:52, replay, DEBUG: Epoch[100] validation average loss: 1267.01782\n",
      "DEBUG:replay:Epoch[100] validation average loss: 1267.01782\n",
      "24-May-21 08:58:52, replay, DEBUG: -- Загрузка модели из файла\n",
      "DEBUG:replay:-- Загрузка модели из файла\n"
     ]
    },
    {
     "name": "stdout",
     "output_type": "stream",
     "text": [
      "CPU times: user 5min 2s, sys: 3min 42s, total: 8min 45s\n",
      "Wall time: 1min\n"
     ]
    }
   ],
   "source": [
    "%%time\n",
    "multvae.fit(log=train)"
   ]
  },
  {
   "cell_type": "code",
   "execution_count": 61,
   "metadata": {
    "ExecuteTime": {
     "end_time": "2020-02-10T16:07:26.278582Z",
     "start_time": "2020-02-10T16:06:39.118983Z"
    },
    "jupyter": {
     "outputs_hidden": false
    },
    "scrolled": true
   },
   "outputs": [
    {
     "name": "stderr",
     "output_type": "stream",
     "text": [
      "24-May-21 08:58:52, replay, DEBUG: Начало предикта MultVAE\n",
      "DEBUG:replay:Начало предикта MultVAE\n",
      "24-May-21 08:58:54, replay, DEBUG: Предсказание модели\n",
      "DEBUG:replay:Предсказание модели\n",
      "/home/volodkevich/replay_tasks/venv376/lib/python3.7/site-packages/torch/storage.py:34: FutureWarning: pickle support for Storage will be removed in 1.5. Use `torch.save` instead\n",
      "  warnings.warn(\"pickle support for Storage will be removed in 1.5. Use `torch.save` instead\", FutureWarning)\n"
     ]
    },
    {
     "name": "stdout",
     "output_type": "stream",
     "text": [
      "CPU times: user 795 ms, sys: 161 ms, total: 955 ms\n",
      "Wall time: 12.8 s\n"
     ]
    }
   ],
   "source": [
    "%%time\n",
    "\n",
    "recs = multvae.predict(\n",
    "    k=K,\n",
    "    users=test.select('user_id').distinct(),\n",
    "    log=train,\n",
    "    filter_seen_items=True\n",
    ")"
   ]
  },
  {
   "cell_type": "code",
   "execution_count": 62,
   "metadata": {},
   "outputs": [
    {
     "name": "stdout",
     "output_type": "stream",
     "text": [
      "CPU times: user 71.6 ms, sys: 0 ns, total: 71.6 ms\n",
      "Wall time: 14.8 s\n"
     ]
    },
    {
     "data": {
      "text/html": [
       "<div>\n",
       "<style scoped>\n",
       "    .dataframe tbody tr th:only-of-type {\n",
       "        vertical-align: middle;\n",
       "    }\n",
       "\n",
       "    .dataframe tbody tr th {\n",
       "        vertical-align: top;\n",
       "    }\n",
       "\n",
       "    .dataframe thead th {\n",
       "        text-align: right;\n",
       "    }\n",
       "</style>\n",
       "<table border=\"1\" class=\"dataframe\">\n",
       "  <thead>\n",
       "    <tr style=\"text-align: right;\">\n",
       "      <th></th>\n",
       "      <th>HitRate@1</th>\n",
       "      <th>HitRate@5</th>\n",
       "      <th>MAP@5</th>\n",
       "      <th>NDCG@5</th>\n",
       "    </tr>\n",
       "  </thead>\n",
       "  <tbody>\n",
       "    <tr>\n",
       "      <th>SLIM</th>\n",
       "      <td>0.128</td>\n",
       "      <td>0.346</td>\n",
       "      <td>0.053353</td>\n",
       "      <td>0.096688</td>\n",
       "    </tr>\n",
       "    <tr>\n",
       "      <th>SLIM_optimized</th>\n",
       "      <td>0.180</td>\n",
       "      <td>0.470</td>\n",
       "      <td>0.072093</td>\n",
       "      <td>0.130902</td>\n",
       "    </tr>\n",
       "    <tr>\n",
       "      <th>ALS</th>\n",
       "      <td>0.236</td>\n",
       "      <td>0.542</td>\n",
       "      <td>0.092333</td>\n",
       "      <td>0.163345</td>\n",
       "    </tr>\n",
       "    <tr>\n",
       "      <th>MultVAE</th>\n",
       "      <td>0.152</td>\n",
       "      <td>0.452</td>\n",
       "      <td>0.065240</td>\n",
       "      <td>0.121208</td>\n",
       "    </tr>\n",
       "  </tbody>\n",
       "</table>\n",
       "</div>"
      ],
      "text/plain": [
       "                HitRate@1  HitRate@5     MAP@5    NDCG@5\n",
       "SLIM                0.128      0.346  0.053353  0.096688\n",
       "SLIM_optimized      0.180      0.470  0.072093  0.130902\n",
       "ALS                 0.236      0.542  0.092333  0.163345\n",
       "MultVAE             0.152      0.452  0.065240  0.121208"
      ]
     },
     "execution_count": 62,
     "metadata": {},
     "output_type": "execute_result"
    }
   ],
   "source": [
    "%%time\n",
    "metrics.add_result(\"MultVAE\", recs)\n",
    "metrics.results"
   ]
  },
  {
   "cell_type": "markdown",
   "metadata": {},
   "source": [
    "## 5 Compare RePlay models with others\n",
    "To easily evaluate recommendations obtained from other sources, read and pass these recommendations to ``Experiment``"
   ]
  },
  {
   "cell_type": "markdown",
   "metadata": {},
   "source": [
    "#### 5.1 Save your recommendations as dataframe with columns `user_id - item_id - relevance`"
   ]
  },
  {
   "cell_type": "code",
   "execution_count": 65,
   "metadata": {},
   "outputs": [],
   "source": [
    "from pyspark.sql.functions import rand"
   ]
  },
  {
   "cell_type": "code",
   "execution_count": 66,
   "metadata": {
    "jupyter": {
     "outputs_hidden": false
    }
   },
   "outputs": [],
   "source": [
    "recs.withColumn('relevance', rand(seed=123)).toPandas().to_csv(\"recs.csv\", index=False)"
   ]
  },
  {
   "cell_type": "markdown",
   "metadata": {},
   "source": [
    "#### 5.2 Read with DataPreparator"
   ]
  },
  {
   "cell_type": "code",
   "execution_count": 67,
   "metadata": {
    "jupyter": {
     "outputs_hidden": false
    }
   },
   "outputs": [],
   "source": [
    "recs = DataPreparator().transform(\n",
    "    path=\"recs.csv\",\n",
    "    columns_names={\n",
    "        \"user_id\": \"user_id\",\n",
    "        \"item_id\": \"item_id\",\n",
    "        \"relevance\": \"relevance\"\n",
    "    },\n",
    "    header=True,\n",
    "    format_type=\"csv\"\n",
    ")"
   ]
  },
  {
   "cell_type": "markdown",
   "metadata": {},
   "source": [
    "#### 5.3 Compare with Experiment"
   ]
  },
  {
   "cell_type": "code",
   "execution_count": 68,
   "metadata": {
    "jupyter": {
     "outputs_hidden": false
    }
   },
   "outputs": [
    {
     "data": {
      "text/html": [
       "<div>\n",
       "<style scoped>\n",
       "    .dataframe tbody tr th:only-of-type {\n",
       "        vertical-align: middle;\n",
       "    }\n",
       "\n",
       "    .dataframe tbody tr th {\n",
       "        vertical-align: top;\n",
       "    }\n",
       "\n",
       "    .dataframe thead th {\n",
       "        text-align: right;\n",
       "    }\n",
       "</style>\n",
       "<table border=\"1\" class=\"dataframe\">\n",
       "  <thead>\n",
       "    <tr style=\"text-align: right;\">\n",
       "      <th></th>\n",
       "      <th>HitRate@1</th>\n",
       "      <th>HitRate@5</th>\n",
       "      <th>MAP@5</th>\n",
       "      <th>NDCG@5</th>\n",
       "    </tr>\n",
       "  </thead>\n",
       "  <tbody>\n",
       "    <tr>\n",
       "      <th>ALS</th>\n",
       "      <td>0.236</td>\n",
       "      <td>0.542</td>\n",
       "      <td>0.092333</td>\n",
       "      <td>0.163345</td>\n",
       "    </tr>\n",
       "    <tr>\n",
       "      <th>SLIM_optimized</th>\n",
       "      <td>0.180</td>\n",
       "      <td>0.470</td>\n",
       "      <td>0.072093</td>\n",
       "      <td>0.130902</td>\n",
       "    </tr>\n",
       "    <tr>\n",
       "      <th>MultVAE</th>\n",
       "      <td>0.152</td>\n",
       "      <td>0.452</td>\n",
       "      <td>0.065240</td>\n",
       "      <td>0.121208</td>\n",
       "    </tr>\n",
       "    <tr>\n",
       "      <th>my_model</th>\n",
       "      <td>0.124</td>\n",
       "      <td>0.452</td>\n",
       "      <td>0.059987</td>\n",
       "      <td>0.114850</td>\n",
       "    </tr>\n",
       "    <tr>\n",
       "      <th>SLIM</th>\n",
       "      <td>0.128</td>\n",
       "      <td>0.346</td>\n",
       "      <td>0.053353</td>\n",
       "      <td>0.096688</td>\n",
       "    </tr>\n",
       "  </tbody>\n",
       "</table>\n",
       "</div>"
      ],
      "text/plain": [
       "                HitRate@1  HitRate@5     MAP@5    NDCG@5\n",
       "ALS                 0.236      0.542  0.092333  0.163345\n",
       "SLIM_optimized      0.180      0.470  0.072093  0.130902\n",
       "MultVAE             0.152      0.452  0.065240  0.121208\n",
       "my_model            0.124      0.452  0.059987  0.114850\n",
       "SLIM                0.128      0.346  0.053353  0.096688"
      ]
     },
     "execution_count": 68,
     "metadata": {},
     "output_type": "execute_result"
    }
   ],
   "source": [
    "metrics.add_result(\"my_model\", recs)\n",
    "metrics.results.sort_values(\"NDCG@5\", ascending=False)"
   ]
  },
  {
   "cell_type": "code",
   "execution_count": null,
   "metadata": {},
   "outputs": [],
   "source": []
  }
 ],
 "metadata": {
  "kernelspec": {
   "display_name": "Python 3",
   "language": "python",
   "name": "python3"
  },
  "language_info": {
   "codemirror_mode": {
    "name": "ipython",
    "version": 3
   },
   "file_extension": ".py",
   "mimetype": "text/x-python",
   "name": "python",
   "nbconvert_exporter": "python",
   "pygments_lexer": "ipython3",
   "version": "3.7.6"
  },
  "name": "movielens_nmf.ipynb",
  "pycharm": {
   "stem_cell": {
    "cell_type": "raw",
    "source": [
     "null"
    ],
    "metadata": {
     "collapsed": false
    }
   }
  }
 },
 "nbformat": 4,
 "nbformat_minor": 4
}